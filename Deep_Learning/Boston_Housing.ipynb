{
  "nbformat": 4,
  "nbformat_minor": 0,
  "metadata": {
    "colab": {
      "provenance": [],
      "toc_visible": true
    },
    "kernelspec": {
      "name": "python3",
      "display_name": "Python 3"
    },
    "language_info": {
      "name": "python"
    }
  },
  "cells": [
    {
      "cell_type": "code",
      "execution_count": null,
      "metadata": {
        "id": "k3Zn6QOVnIFs"
      },
      "outputs": [],
      "source": []
    },
    {
      "cell_type": "code",
      "source": [
        "import numpy as np\n",
        "import tensorflow as tf\n",
        "from tensorflow import keras\n",
        "from tensorflow.keras import layers"
      ],
      "metadata": {
        "id": "PFopSZl9nyiW"
      },
      "execution_count": 12,
      "outputs": []
    },
    {
      "cell_type": "code",
      "source": [
        "import matplotlib.pyplot as plt"
      ],
      "metadata": {
        "id": "uob94Y3X1FIk"
      },
      "execution_count": 20,
      "outputs": []
    },
    {
      "cell_type": "code",
      "source": [
        "from tensorflow.keras.datasets import boston_housing\n",
        "(train_data, train_targets), (test_data, test_targets) = boston_housing.load_data()"
      ],
      "metadata": {
        "colab": {
          "base_uri": "https://localhost:8080/"
        },
        "id": "wYnOpHEqnyl5",
        "outputId": "1fc806eb-f539-456d-f409-f79f5581cbcd"
      },
      "execution_count": 1,
      "outputs": [
        {
          "output_type": "stream",
          "name": "stdout",
          "text": [
            "Downloading data from https://storage.googleapis.com/tensorflow/tf-keras-datasets/boston_housing.npz\n",
            "\u001b[1m57026/57026\u001b[0m \u001b[32m━━━━━━━━━━━━━━━━━━━━\u001b[0m\u001b[37m\u001b[0m \u001b[1m0s\u001b[0m 0us/step\n"
          ]
        }
      ]
    },
    {
      "cell_type": "code",
      "source": [
        "import joblib\n",
        "from joblib import dump, load\n",
        "joblib.dump(train_data,'train_data.pkl')\n",
        "joblib.dump(train_targets,'train_targets.pkl')\n",
        "joblib.dump(test_data,'test_data.pkl')\n",
        "joblib.dump(test_targets,'test_targets.pkl')"
      ],
      "metadata": {
        "colab": {
          "base_uri": "https://localhost:8080/"
        },
        "id": "ReSX1RQkoNaf",
        "outputId": "df8d5721-77d8-467b-dd0a-a466906852ec"
      },
      "execution_count": 2,
      "outputs": [
        {
          "output_type": "execute_result",
          "data": {
            "text/plain": [
              "['test_targets.pkl']"
            ]
          },
          "metadata": {},
          "execution_count": 2
        }
      ]
    },
    {
      "cell_type": "code",
      "source": [
        "train_data.shape"
      ],
      "metadata": {
        "colab": {
          "base_uri": "https://localhost:8080/"
        },
        "id": "pW-IsUtOpK06",
        "outputId": "2c5264e9-9c2f-409d-8bab-366308919279"
      },
      "execution_count": 3,
      "outputs": [
        {
          "output_type": "execute_result",
          "data": {
            "text/plain": [
              "(404, 13)"
            ]
          },
          "metadata": {},
          "execution_count": 3
        }
      ]
    },
    {
      "cell_type": "code",
      "source": [
        "test_data.shape"
      ],
      "metadata": {
        "colab": {
          "base_uri": "https://localhost:8080/"
        },
        "id": "3PDnAUSUphjh",
        "outputId": "1024864f-6b51-44e1-d2f9-e4a9019ba9ac"
      },
      "execution_count": 5,
      "outputs": [
        {
          "output_type": "execute_result",
          "data": {
            "text/plain": [
              "(102, 13)"
            ]
          },
          "metadata": {},
          "execution_count": 5
        }
      ]
    },
    {
      "cell_type": "code",
      "source": [
        "len(train_targets)"
      ],
      "metadata": {
        "colab": {
          "base_uri": "https://localhost:8080/"
        },
        "id": "1wDk2OwgpjUB",
        "outputId": "d9d44244-b2f1-49c6-dd86-d129d4e7588f"
      },
      "execution_count": 8,
      "outputs": [
        {
          "output_type": "execute_result",
          "data": {
            "text/plain": [
              "404"
            ]
          },
          "metadata": {},
          "execution_count": 8
        }
      ]
    },
    {
      "cell_type": "code",
      "source": [
        "len(test_targets)"
      ],
      "metadata": {
        "colab": {
          "base_uri": "https://localhost:8080/"
        },
        "id": "QWGPNmfXpqxO",
        "outputId": "5f8aec58-95d2-4359-e003-b3d7ec04099c"
      },
      "execution_count": 9,
      "outputs": [
        {
          "output_type": "execute_result",
          "data": {
            "text/plain": [
              "102"
            ]
          },
          "metadata": {},
          "execution_count": 9
        }
      ]
    },
    {
      "cell_type": "code",
      "source": [
        "std=train_data.std(axis=0)\n",
        "mean=train_data.mean(axis=0)\n",
        "train_data-=mean\n",
        "train_data/=std\n",
        "test_data-=mean\n",
        "test_data/=std"
      ],
      "metadata": {
        "id": "qSL87F0LpvwJ"
      },
      "execution_count": 10,
      "outputs": []
    },
    {
      "cell_type": "code",
      "source": [
        "def build_model():\n",
        "  model=keras.Sequential([\n",
        "      layers.Dense(64,activation='relu'),\n",
        "      layers.Dense(64,activation='relu'),\n",
        "      layers.Dense(1)\n",
        "  ])\n",
        "  model.compile(optimizer=\"rmsprop\",loss=\"mse\",metrics=['mae'])\n",
        "  return model"
      ],
      "metadata": {
        "id": "H7JKfxV9qpU1"
      },
      "execution_count": 16,
      "outputs": []
    },
    {
      "cell_type": "code",
      "source": [
        "k=4\n",
        "num_val_samples=len(train_data)//k\n",
        "num_epochs=100\n",
        "all_scores=[]\n",
        "for i in range(k):\n",
        "  print(f\"processing fold #{i}\")\n",
        "  val_data=train_data[i*num_val_samples:(i+1)*num_val_samples]\n",
        "  val_targets = train_targets[i*num_val_samples:(i+1)*num_val_samples]\n",
        "  partial_train_data=np.concatenate([train_data[:i*num_val_samples],\n",
        "                                     train_data[(i+1)*num_val_samples:]],\n",
        "                                    axis=0)\n",
        "  partial_train_targets=np.concatenate([train_targets[:i*num_val_samples],\n",
        "                                     train_targets[(i+1)*num_val_samples:]],\n",
        "                                       axis=0)\n",
        "\n",
        "  model=build_model()\n",
        "  model.fit(partial_train_data,partial_train_targets,\n",
        "            epochs=num_epochs,batch_size=16,verbose=0)\n",
        "  val_mse,val_mae=model.evaluate(val_data,val_targets,verbose=0)\n",
        "  all_scores.append(val_mae)\n",
        "print(all_scores)\n",
        "print(np.mean(all_scores))\n",
        "print(np.sum(all_scores)/len(all_scores))\n",
        "\n"
      ],
      "metadata": {
        "colab": {
          "base_uri": "https://localhost:8080/"
        },
        "id": "t7yGQzMUrWIL",
        "outputId": "382727c0-e2a1-423e-e058-6229443caa06"
      },
      "execution_count": 19,
      "outputs": [
        {
          "output_type": "stream",
          "name": "stdout",
          "text": [
            "processing fold #0\n",
            "processing fold #1\n",
            "processing fold #2\n",
            "processing fold #3\n",
            "[1.9219629764556885, 2.5539393424987793, 2.3537981510162354, 2.3846325874328613]\n",
            "2.303583264350891\n",
            "2.303583264350891\n"
          ]
        }
      ]
    },
    {
      "cell_type": "code",
      "source": [
        "def build_model():\n",
        "  model=keras.Sequential([\n",
        "      layers.Dense(16,activation='relu'),\n",
        "      layers.Dense(16,activation='relu'),\n",
        "      layers.Dense(1)\n",
        "  ])\n",
        "  model.compile(optimizer=\"rmsprop\",loss=\"mse\",metrics=['mae'])\n",
        "  return model"
      ],
      "metadata": {
        "id": "mH1q2IXT4BZc"
      },
      "execution_count": 27,
      "outputs": []
    },
    {
      "cell_type": "code",
      "source": [
        "k=5\n",
        "num_val_samples=len(train_data)//k\n",
        "num_epochs=300\n",
        "all_mae_histories=[]\n",
        "for i in range(k):\n",
        "  print(f\"processing fold #{i}\")\n",
        "  val_data=train_data[i*num_val_samples:(i+1)*num_val_samples]\n",
        "  val_targets = train_targets[i*num_val_samples:(i+1)*num_val_samples]\n",
        "  partial_train_data=np.concatenate([train_data[:i*num_val_samples],\n",
        "                                     train_data[(i+1)*num_val_samples:]],\n",
        "                                    axis=0)\n",
        "  partial_train_targets=np.concatenate([train_targets[:i*num_val_samples],\n",
        "                                     train_targets[(i+1)*num_val_samples:]],\n",
        "                                       axis=0)\n",
        "\n",
        "  model=build_model()\n",
        "  history=model.fit(partial_train_data,partial_train_targets,validation_data=(val_data,val_targets),\n",
        "                    epochs=num_epochs,batch_size=16,verbose=0)\n",
        "  mae_history=history.history['val_mae']\n",
        "  all_mae_histories.append(mae_history)"
      ],
      "metadata": {
        "colab": {
          "base_uri": "https://localhost:8080/"
        },
        "id": "gEuPKGPxrWOi",
        "outputId": "1302590b-0328-4cfe-aa7d-83c4c6ed48d4"
      },
      "execution_count": 32,
      "outputs": [
        {
          "output_type": "stream",
          "name": "stdout",
          "text": [
            "processing fold #0\n",
            "processing fold #1\n",
            "processing fold #2\n",
            "processing fold #3\n",
            "processing fold #4\n"
          ]
        }
      ]
    },
    {
      "cell_type": "code",
      "source": [
        "average_mae_history=[np.mean([x[i] for x in all_mae_histories]) for i in range(num_epochs)]"
      ],
      "metadata": {
        "id": "IpH4o5oMrWRq"
      },
      "execution_count": 33,
      "outputs": []
    },
    {
      "cell_type": "code",
      "source": [
        "plt.plot(range(1,len(average_mae_history)+1),average_mae_history)\n",
        "plt.xlabel('Epochs')\n",
        "plt.ylabel('Validation MAE')\n",
        "plt.show()"
      ],
      "metadata": {
        "colab": {
          "base_uri": "https://localhost:8080/",
          "height": 450
        },
        "id": "JxrQZCmerWUy",
        "outputId": "0e615b7d-b0af-4628-84d2-cdcfa383fa5d"
      },
      "execution_count": 34,
      "outputs": [
        {
          "output_type": "display_data",
          "data": {
            "text/plain": [
              "<Figure size 640x480 with 1 Axes>"
            ],
            "image/png": "[encoded data removed]"
          },
          "metadata": {}
        }
      ]
    },
    {
      "cell_type": "code",
      "source": [
        "truncated_mae_hist=average_mae_history[100:]\n",
        "plt.plot(range(1,len(truncated_mae_hist)+1),truncated_mae_hist)\n",
        "plt.grid()\n",
        "plt.show()"
      ],
      "metadata": {
        "colab": {
          "base_uri": "https://localhost:8080/",
          "height": 430
        },
        "id": "7aqg5svArWYC",
        "outputId": "8d64c38d-5cdd-4609-87ea-158daa4285d2"
      },
      "execution_count": 35,
      "outputs": [
        {
          "output_type": "display_data",
          "data": {
            "text/plain": [
              "<Figure size 640x480 with 1 Axes>"
            ],
            "image/png": "[encoded data removed]"
          },
          "metadata": {}
        }
      ]
    },
    {
      "cell_type": "code",
      "source": [
        "final_model=keras.Sequential([\n",
        "      layers.Dense(64,activation='relu'),\n",
        "      layers.Dense(64,activation='relu'),\n",
        "      layers.Dense(1)\n",
        "  ])\n",
        "final_model.compile(optimizer=\"rmsprop\",loss=\"mse\",metrics=['mae'])\n",
        "\n",
        "final_model.fit(train_data,train_targets,epochs=275,batch_size=16,verbose=0)"
      ],
      "metadata": {
        "colab": {
          "base_uri": "https://localhost:8080/"
        },
        "id": "FLLAbLzIrWbS",
        "outputId": "1b00bc22-9a4d-4ff3-8b99-31de0ba6a3f5"
      },
      "execution_count": 55,
      "outputs": [
        {
          "output_type": "execute_result",
          "data": {
            "text/plain": [
              "<keras.src.callbacks.history.History at 0x7bb6fc66fb10>"
            ]
          },
          "metadata": {},
          "execution_count": 55
        }
      ]
    },
    {
      "cell_type": "code",
      "source": [
        "train_pred=final_model.predict(train_data)\n",
        "test_pred=final_model.predict(test_data)"
      ],
      "metadata": {
        "colab": {
          "base_uri": "https://localhost:8080/"
        },
        "id": "mlMGH4FLrWev",
        "outputId": "54d17ffc-8563-446f-ceb0-48ee325adf18"
      },
      "execution_count": 56,
      "outputs": [
        {
          "output_type": "stream",
          "name": "stdout",
          "text": [
            "\u001b[1m13/13\u001b[0m \u001b[32m━━━━━━━━━━━━━━━━━━━━\u001b[0m\u001b[37m\u001b[0m \u001b[1m0s\u001b[0m 5ms/step \n",
            "\u001b[1m4/4\u001b[0m \u001b[32m━━━━━━━━━━━━━━━━━━━━\u001b[0m\u001b[37m\u001b[0m \u001b[1m0s\u001b[0m 12ms/step\n"
          ]
        }
      ]
    },
    {
      "cell_type": "code",
      "source": [
        "from sklearn.metrics import mean_absolute_error\n",
        "train_mae=mean_absolute_error(train_targets,train_pred)\n",
        "test_mae=mean_absolute_error(test_targets,test_pred)\n",
        "print(f\"train mse: {train_mae}; test mse: {test_mae}\")"
      ],
      "metadata": {
        "colab": {
          "base_uri": "https://localhost:8080/"
        },
        "id": "xA8wwqs277oi",
        "outputId": "b75614cd-786d-4a3d-c773-7a7a8f985399"
      },
      "execution_count": 57,
      "outputs": [
        {
          "output_type": "stream",
          "name": "stdout",
          "text": [
            "train mse: 0.9130476559742843; test mse: 2.2702502755557794\n"
          ]
        }
      ]
    },
    {
      "cell_type": "code",
      "source": [
        "from sklearn.metrics import r2_score\n",
        "train_r2=r2_score(train_targets,train_pred)\n",
        "test_r2=r2_score(test_targets,test_pred)\n",
        "print(f\"train r2: {train_r2}; test r2: {test_r2}\")"
      ],
      "metadata": {
        "colab": {
          "base_uri": "https://localhost:8080/"
        },
        "id": "JDtSsQoe-9ZF",
        "outputId": "f5aa3eff-8bb8-4e43-a665-0bfac0cc167e"
      },
      "execution_count": 59,
      "outputs": [
        {
          "output_type": "stream",
          "name": "stdout",
          "text": [
            "train r2: 0.9795206007601684; test r2: 0.8627836026293343\n"
          ]
        }
      ]
    },
    {
      "cell_type": "markdown",
      "source": [
        "# New Section"
      ],
      "metadata": {
        "id": "qyLOGcKQ_T4R"
      }
    },
    {
      "cell_type": "code",
      "source": [
        "joblib.dump(final_model,\"boston_housing_price_pred_model.pkl\")"
      ],
      "metadata": {
        "colab": {
          "base_uri": "https://localhost:8080/"
        },
        "id": "GDbeOZU08xu0",
        "outputId": "3a26321d-b2c0-4aeb-959e-d7815358abd7"
      },
      "execution_count": 58,
      "outputs": [
        {
          "output_type": "execute_result",
          "data": {
            "text/plain": [
              "['boston_housing_price_pred_model.pkl']"
            ]
          },
          "metadata": {},
          "execution_count": 58
        }
      ]
    }
  ]
}