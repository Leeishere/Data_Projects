{
  "cells": [
    {
      "cell_type": "code",
      "execution_count": 4,
      "metadata": {
        "id": "Qx53oE8CYflz"
      },
      "outputs": [],
      "source": [
        "import pandas as pd\n",
        "import numpy as np\n",
        "import matplotlib.pyplot as plt\n",
        "import seaborn as sns\n",
        "import tensorflow as tf\n",
        "import keras as krs"
      ]
    },
    {
      "cell_type": "code",
      "execution_count": 5,
      "metadata": {
        "id": "j01x2FL6expI"
      },
      "outputs": [],
      "source": [
        "from tensorflow.keras.datasets import imdb"
      ]
    },
    {
      "cell_type": "code",
      "execution_count": 6,
      "metadata": {
        "id": "3Z0xroKEe4EK"
      },
      "outputs": [],
      "source": [
        "(train_data,train_labels),(test_data,test_labels)=imdb.load_data(num_words=10_000)\n"
      ]
    },
    {
      "cell_type": "code",
      "execution_count": 9,
      "metadata": {
        "id": "taS1BZyHfHX6"
      },
      "outputs": [],
      "source": [
        "from joblib import dump,load\n",
        "with open(r\"C:\\Users\\user\\OneDrive\\Documents\\D_I_G\\ML\\Keras\\imdb\\train_data.pkl\",\"wb\") as f:\n",
        "    dump(train_data,f)\n",
        "with open(r\"C:\\Users\\user\\OneDrive\\Documents\\D_I_G\\ML\\Keras\\imdb\\train_labels.pkl\",\"wb\") as f:\n",
        "    dump(train_labels,f)\n",
        "with open(r\"C:\\Users\\user\\OneDrive\\Documents\\D_I_G\\ML\\Keras\\imdb\\test_data.pkl\",\"wb\") as f:\n",
        "    dump(test_data,f)\n",
        "with open(r\"C:\\Users\\user\\OneDrive\\Documents\\D_I_G\\ML\\Keras\\imdb\\test_labels.pkl\",\"wb\") as f:\n",
        "    dump(test_labels,f)"
      ]
    },
    {
      "cell_type": "code",
      "execution_count": 19,
      "metadata": {
        "colab": {
          "base_uri": "https://localhost:8080/"
        },
        "id": "tQW1nYfEfhrp",
        "outputId": "b89c3336-d377-459e-bc98-ff577b8c8e32"
      },
      "outputs": [
        {
          "name": "stdout",
          "output_type": "stream",
          "text": [
            "(25000,) (25000,) (25000,) (25000,)\n"
          ]
        }
      ],
      "source": [
        "print(train_data.shape,train_labels.shape,test_data.shape,test_labels.shape)"
      ]
    },
    {
      "cell_type": "code",
      "execution_count": 31,
      "metadata": {
        "colab": {
          "base_uri": "https://localhost:8080/"
        },
        "id": "U-YDPqXris4p",
        "outputId": "a3c72af1-02d9-43ac-941c-b7f034b71891"
      },
      "outputs": [
        {
          "data": {
            "text/plain": [
              "218"
            ]
          },
          "execution_count": 31,
          "metadata": {},
          "output_type": "execute_result"
        }
      ],
      "source": [
        "len(train_data[0])"
      ]
    },
    {
      "cell_type": "code",
      "execution_count": 34,
      "metadata": {
        "colab": {
          "base_uri": "https://localhost:8080/"
        },
        "id": "eeYRpBcIiwcC",
        "outputId": "406a66d9-25d4-491c-b2a2-346486bb7bad"
      },
      "outputs": [
        {
          "data": {
            "text/plain": [
              "array([1, 0, 0, 1, 0])"
            ]
          },
          "execution_count": 34,
          "metadata": {},
          "output_type": "execute_result"
        }
      ],
      "source": [
        "train_labels[0:5]"
      ]
    },
    {
      "cell_type": "markdown",
      "metadata": {
        "id": "7fsFzuzRmF9D"
      },
      "source": [
        "decode map in reverse (tactile demonstration)"
      ]
    },
    {
      "cell_type": "code",
      "execution_count": 37,
      "metadata": {
        "colab": {
          "base_uri": "https://localhost:8080/",
          "height": 54
        },
        "id": "pYG1R_-blMnj",
        "outputId": "7429d2cc-29b1-4ae2-a0ae-0360833512db"
      },
      "outputs": [
        {
          "data": {
            "application/vnd.google.colaboratory.intrinsic+json": {
              "type": "string"
            },
            "text/plain": [
              "\"? this film was just brilliant casting location scenery story direction everyone's really suited the part they \""
            ]
          },
          "execution_count": 37,
          "metadata": {},
          "output_type": "execute_result"
        }
      ],
      "source": [
        "word_index=imdb.get_word_index()\n",
        "reverse_word_index = dict(\n",
        "    [(value,key) for (key,value) in word_index.items()])\n",
        "decoded_review = \" \".join(\n",
        "    [reverse_word_index.get(i-3,\"?\") for i in train_data[0]])\n",
        "decoded_review[:len(decoded_review)//10]"
      ]
    },
    {
      "cell_type": "markdown",
      "metadata": {
        "id": "muRGRv3-pHZ6"
      },
      "source": [
        "one hot encoded vectors of len(train_data) rows (observations) and len(num_words)"
      ]
    },
    {
      "cell_type": "code",
      "execution_count": 38,
      "metadata": {
        "id": "vR4cnuwEnc90"
      },
      "outputs": [],
      "source": [
        "def vectorize_sequences(sequences,num_words=10_000):\n",
        "  results = np.zeros((len(sequences),num_words))\n",
        "  for word,sequence in enumerate(sequences):\n",
        "    results[word,sequence]=1\n",
        "  return results"
      ]
    },
    {
      "cell_type": "code",
      "execution_count": 39,
      "metadata": {
        "id": "fgmJZIIwqOhu"
      },
      "outputs": [],
      "source": [
        "x_train = vectorize_sequences(train_data)\n",
        "x_test = vectorize_sequences(test_data)"
      ]
    },
    {
      "cell_type": "code",
      "execution_count": 42,
      "metadata": {
        "colab": {
          "base_uri": "https://localhost:8080/"
        },
        "id": "blHZMM6BqYIf",
        "outputId": "9072cae6-305f-4729-965a-224a45f76629"
      },
      "outputs": [
        {
          "name": "stdout",
          "output_type": "stream",
          "text": [
            "10000 218\n"
          ]
        }
      ],
      "source": [
        "print(len(x_train[0]),len(train_data[0]))"
      ]
    },
    {
      "cell_type": "code",
      "execution_count": 88,
      "metadata": {
        "id": "C8bGuFDaFYNX"
      },
      "outputs": [],
      "source": [
        "y_train = np.asarray(train_labels).astype(\"float32\")\n",
        "y_test = np.asarray(test_labels).astype(\"float32\")"
      ]
    },
    {
      "cell_type": "markdown",
      "metadata": {
        "id": "y9YBSZcquUlL"
      },
      "source": [
        "implement neural network"
      ]
    },
    {
      "cell_type": "code",
      "execution_count": 44,
      "metadata": {
        "id": "hHGzUYoNrd0d"
      },
      "outputs": [],
      "source": [
        "from tensorflow.keras import layers"
      ]
    },
    {
      "cell_type": "code",
      "execution_count": 113,
      "metadata": {
        "id": "QgGrXBoGsVSt"
      },
      "outputs": [],
      "source": [
        "model = krs.Sequential([layers.Dense(16,activation='relu'),\n",
        "                        layers.Dense(16,activation='relu'),\n",
        "                        layers.Dense(16,activation='relu'),\n",
        "                        layers.Dense(1,activation='sigmoid')])"
      ]
    },
    {
      "cell_type": "code",
      "execution_count": 114,
      "metadata": {
        "id": "WEDLksCPsVis"
      },
      "outputs": [],
      "source": [
        "model.compile(optimizer='rmsprop',loss='binary_crossentropy',metrics=['accuracy'])"
      ]
    },
    {
      "cell_type": "markdown",
      "metadata": {
        "id": "7AshaS6a0glV"
      },
      "source": [
        "VALIDATION"
      ]
    },
    {
      "cell_type": "code",
      "execution_count": 115,
      "metadata": {
        "id": "JHwrecMM0e5B"
      },
      "outputs": [],
      "source": [
        "x_val = x_train[:10_000]\n",
        "partial_x_train = x_train[10_000:]\n",
        "y_val = y_train[:10_000]\n",
        "partial_y_train = y_train[10_000:]"
      ]
    },
    {
      "cell_type": "markdown",
      "metadata": {
        "id": "k7yk-7oR1Zv4"
      },
      "source": [
        "train"
      ]
    },
    {
      "cell_type": "code",
      "execution_count": 116,
      "metadata": {
        "colab": {
          "base_uri": "https://localhost:8080/"
        },
        "id": "1m73MJ2ysVuo",
        "outputId": "edffa839-3c90-4775-80b0-629c9e069ead"
      },
      "outputs": [
        {
          "name": "stdout",
          "output_type": "stream",
          "text": [
            "Epoch 1/20\n",
            "\u001b[1m30/30\u001b[0m \u001b[32m━━━━━━━━━━━━━━━━━━━━\u001b[0m\u001b[37m\u001b[0m \u001b[1m4s\u001b[0m 80ms/step - accuracy: 0.6830 - loss: 0.6206 - val_accuracy: 0.8643 - val_loss: 0.4170\n",
            "Epoch 2/20\n",
            "\u001b[1m30/30\u001b[0m \u001b[32m━━━━━━━━━━━━━━━━━━━━\u001b[0m\u001b[37m\u001b[0m \u001b[1m2s\u001b[0m 66ms/step - accuracy: 0.8909 - loss: 0.3523 - val_accuracy: 0.8864 - val_loss: 0.3083\n",
            "Epoch 3/20\n",
            "\u001b[1m30/30\u001b[0m \u001b[32m━━━━━━━━━━━━━━━━━━━━\u001b[0m\u001b[37m\u001b[0m \u001b[1m1s\u001b[0m 38ms/step - accuracy: 0.9193 - loss: 0.2443 - val_accuracy: 0.8751 - val_loss: 0.3068\n",
            "Epoch 4/20\n",
            "\u001b[1m30/30\u001b[0m \u001b[32m━━━━━━━━━━━━━━━━━━━━\u001b[0m\u001b[37m\u001b[0m \u001b[1m2s\u001b[0m 47ms/step - accuracy: 0.9443 - loss: 0.1797 - val_accuracy: 0.8844 - val_loss: 0.2857\n",
            "Epoch 5/20\n",
            "\u001b[1m30/30\u001b[0m \u001b[32m━━━━━━━━━━━━━━━━━━━━\u001b[0m\u001b[37m\u001b[0m \u001b[1m2s\u001b[0m 34ms/step - accuracy: 0.9562 - loss: 0.1395 - val_accuracy: 0.8855 - val_loss: 0.2901\n",
            "Epoch 6/20\n",
            "\u001b[1m30/30\u001b[0m \u001b[32m━━━━━━━━━━━━━━━━━━━━\u001b[0m\u001b[37m\u001b[0m \u001b[1m2s\u001b[0m 44ms/step - accuracy: 0.9633 - loss: 0.1201 - val_accuracy: 0.8835 - val_loss: 0.3022\n",
            "Epoch 7/20\n",
            "\u001b[1m30/30\u001b[0m \u001b[32m━━━━━━━━━━━━━━━━━━━━\u001b[0m\u001b[37m\u001b[0m \u001b[1m2s\u001b[0m 53ms/step - accuracy: 0.9776 - loss: 0.0900 - val_accuracy: 0.8812 - val_loss: 0.3264\n",
            "Epoch 8/20\n",
            "\u001b[1m30/30\u001b[0m \u001b[32m━━━━━━━━━━━━━━━━━━━━\u001b[0m\u001b[37m\u001b[0m \u001b[1m4s\u001b[0m 88ms/step - accuracy: 0.9803 - loss: 0.0768 - val_accuracy: 0.8811 - val_loss: 0.3425\n",
            "Epoch 9/20\n",
            "\u001b[1m30/30\u001b[0m \u001b[32m━━━━━━━━━━━━━━━━━━━━\u001b[0m\u001b[37m\u001b[0m \u001b[1m2s\u001b[0m 54ms/step - accuracy: 0.9843 - loss: 0.0626 - val_accuracy: 0.8699 - val_loss: 0.3973\n",
            "Epoch 10/20\n",
            "\u001b[1m30/30\u001b[0m \u001b[32m━━━━━━━━━━━━━━━━━━━━\u001b[0m\u001b[37m\u001b[0m \u001b[1m1s\u001b[0m 41ms/step - accuracy: 0.9893 - loss: 0.0478 - val_accuracy: 0.8786 - val_loss: 0.3916\n",
            "Epoch 11/20\n",
            "\u001b[1m30/30\u001b[0m \u001b[32m━━━━━━━━━━━━━━━━━━━━\u001b[0m\u001b[37m\u001b[0m \u001b[1m2s\u001b[0m 35ms/step - accuracy: 0.9938 - loss: 0.0326 - val_accuracy: 0.8766 - val_loss: 0.4207\n",
            "Epoch 12/20\n",
            "\u001b[1m30/30\u001b[0m \u001b[32m━━━━━━━━━━━━━━━━━━━━\u001b[0m\u001b[37m\u001b[0m \u001b[1m1s\u001b[0m 38ms/step - accuracy: 0.9962 - loss: 0.0255 - val_accuracy: 0.8731 - val_loss: 0.4513\n",
            "Epoch 13/20\n",
            "\u001b[1m30/30\u001b[0m \u001b[32m━━━━━━━━━━━━━━━━━━━━\u001b[0m\u001b[37m\u001b[0m \u001b[1m1s\u001b[0m 38ms/step - accuracy: 0.9971 - loss: 0.0204 - val_accuracy: 0.8737 - val_loss: 0.4698\n",
            "Epoch 14/20\n",
            "\u001b[1m30/30\u001b[0m \u001b[32m━━━━━━━━━━━━━━━━━━━━\u001b[0m\u001b[37m\u001b[0m \u001b[1m1s\u001b[0m 35ms/step - accuracy: 0.9989 - loss: 0.0133 - val_accuracy: 0.8699 - val_loss: 0.5161\n",
            "Epoch 15/20\n",
            "\u001b[1m30/30\u001b[0m \u001b[32m━━━━━━━━━━━━━━━━━━━━\u001b[0m\u001b[37m\u001b[0m \u001b[1m1s\u001b[0m 37ms/step - accuracy: 0.9964 - loss: 0.0170 - val_accuracy: 0.8704 - val_loss: 0.5325\n",
            "Epoch 16/20\n",
            "\u001b[1m30/30\u001b[0m \u001b[32m━━━━━━━━━━━━━━━━━━━━\u001b[0m\u001b[37m\u001b[0m \u001b[1m1s\u001b[0m 43ms/step - accuracy: 0.9995 - loss: 0.0082 - val_accuracy: 0.8706 - val_loss: 0.5686\n",
            "Epoch 17/20\n",
            "\u001b[1m30/30\u001b[0m \u001b[32m━━━━━━━━━━━━━━━━━━━━\u001b[0m\u001b[37m\u001b[0m \u001b[1m3s\u001b[0m 60ms/step - accuracy: 0.9946 - loss: 0.0187 - val_accuracy: 0.8701 - val_loss: 0.5743\n",
            "Epoch 18/20\n",
            "\u001b[1m30/30\u001b[0m \u001b[32m━━━━━━━━━━━━━━━━━━━━\u001b[0m\u001b[37m\u001b[0m \u001b[1m2s\u001b[0m 39ms/step - accuracy: 0.9998 - loss: 0.0042 - val_accuracy: 0.8698 - val_loss: 0.6041\n",
            "Epoch 19/20\n",
            "\u001b[1m30/30\u001b[0m \u001b[32m━━━━━━━━━━━━━━━━━━━━\u001b[0m\u001b[37m\u001b[0m \u001b[1m1s\u001b[0m 38ms/step - accuracy: 0.9966 - loss: 0.0144 - val_accuracy: 0.8698 - val_loss: 0.6209\n",
            "Epoch 20/20\n",
            "\u001b[1m30/30\u001b[0m \u001b[32m━━━━━━━━━━━━━━━━━━━━\u001b[0m\u001b[37m\u001b[0m \u001b[1m1s\u001b[0m 34ms/step - accuracy: 0.9999 - loss: 0.0028 - val_accuracy: 0.8701 - val_loss: 0.6378\n"
          ]
        }
      ],
      "source": [
        "history = model.fit(partial_x_train,partial_y_train,epochs=20,batch_size=512,validation_data=(x_val,y_val))"
      ]
    },
    {
      "cell_type": "code",
      "execution_count": 117,
      "metadata": {
        "colab": {
          "base_uri": "https://localhost:8080/"
        },
        "id": "QpQCq0jAsVx9",
        "outputId": "aa0a371a-5463-40fd-c746-d8ff2d411562"
      },
      "outputs": [
        {
          "data": {
            "text/plain": [
              "dict_keys(['accuracy', 'loss', 'val_accuracy', 'val_loss'])"
            ]
          },
          "execution_count": 117,
          "metadata": {},
          "output_type": "execute_result"
        }
      ],
      "source": [
        "history_dict = history.history\n",
        "history_dict.keys()"
      ]
    },
    {
      "cell_type": "code",
      "execution_count": 120,
      "metadata": {
        "colab": {
          "base_uri": "https://localhost:8080/",
          "height": 226
        },
        "id": "eeSVJpezsV1j",
        "outputId": "1e9e8342-0c43-46d0-e144-9d8aafe21636"
      },
      "outputs": [
        {
          "data": {
            "image/png": "[encoded data removed]",
            "text/plain": [
              "<Figure size 1000x300 with 2 Axes>"
            ]
          },
          "metadata": {},
          "output_type": "display_data"
        }
      ],
      "source": [
        "epoch_slice_point = 4  # to zero in on the front epochs\n",
        "epochs_ = [i for i in range(1,len(history_dict['loss'][:epoch_slice_point])+1)]\n",
        "fig=plt.figure(figsize=(10,3))\n",
        "plt.subplot(2,1,1)\n",
        "sns.lineplot(x=epochs_,y=history_dict['loss'][:epoch_slice_point],label='loss')\n",
        "sns.lineplot(x=epochs_,y=history_dict['val_loss'][:epoch_slice_point],label='val_loss')\n",
        "plt.legend()\n",
        "plt.subplot(2,1,2)\n",
        "sns.lineplot(x=epochs_,y=history_dict['accuracy'][:epoch_slice_point],label='accuracy')\n",
        "sns.lineplot(x=epochs_,y=history_dict['val_accuracy'][:epoch_slice_point],label='val_accuracy')\n",
        "plt.legend()\n",
        "plt.show()"
      ]
    },
    {
      "cell_type": "code",
      "execution_count": 121,
      "metadata": {
        "colab": {
          "base_uri": "https://localhost:8080/"
        },
        "id": "uxqNjLXmFm4c",
        "outputId": "d09eda62-d4b5-4bfb-d2a0-c6ad49cac2d1"
      },
      "outputs": [
        {
          "name": "stdout",
          "output_type": "stream",
          "text": [
            "Epoch 1/2\n",
            "\u001b[1m49/49\u001b[0m \u001b[32m━━━━━━━━━━━━━━━━━━━━\u001b[0m\u001b[37m\u001b[0m \u001b[1m2s\u001b[0m 25ms/step - accuracy: 0.7126 - loss: 0.5863\n",
            "Epoch 2/2\n",
            "\u001b[1m49/49\u001b[0m \u001b[32m━━━━━━━━━━━━━━━━━━━━\u001b[0m\u001b[37m\u001b[0m \u001b[1m1s\u001b[0m 25ms/step - accuracy: 0.8946 - loss: 0.2982\n",
            "\u001b[1m782/782\u001b[0m \u001b[32m━━━━━━━━━━━━━━━━━━━━\u001b[0m\u001b[37m\u001b[0m \u001b[1m2s\u001b[0m 3ms/step - accuracy: 0.8812 - loss: 0.2952\n"
          ]
        },
        {
          "data": {
            "text/plain": [
              "[0.29621678590774536, 0.8821600079536438]"
            ]
          },
          "execution_count": 121,
          "metadata": {},
          "output_type": "execute_result"
        }
      ],
      "source": [
        "model = krs.Sequential([layers.Dense(16,activation='relu'),\n",
        "                        layers.Dense(16,activation='relu'),\n",
        "                        layers.Dense(16,activation='relu'),\n",
        "                        layers.Dense(1,activation='sigmoid')])\n",
        "model.compile(optimizer='rmsprop',\n",
        "              loss='binary_crossentropy',\n",
        "              metrics=['accuracy'])\n",
        "model.fit(x_train,y_train,epochs=2\n",
        "          ,batch_size=512)\n",
        "results = model.evaluate(x_test,y_test)\n",
        "results"
      ]
    },
    {
      "cell_type": "code",
      "execution_count": null,
      "metadata": {
        "id": "CIeoTlC-LaTh"
      },
      "outputs": [],
      "source": [
        "from google.colab import drive\n",
        "drive.mount('/content/drive')"
      ]
    },
    {
      "cell_type": "markdown",
      "metadata": {
        "id": "L9JWCSlRLbqy"
      },
      "source": [
        "# New Section"
      ]
    },
    {
      "cell_type": "code",
      "execution_count": 90,
      "metadata": {
        "colab": {
          "base_uri": "https://localhost:8080/"
        },
        "id": "w4uBDRUK96mD",
        "outputId": "e588629f-38da-4819-81b0-93ec2afd9e2d"
      },
      "outputs": [
        {
          "name": "stdout",
          "output_type": "stream",
          "text": [
            "\u001b[1m782/782\u001b[0m \u001b[32m━━━━━━━━━━━━━━━━━━━━\u001b[0m\u001b[37m\u001b[0m \u001b[1m2s\u001b[0m 2ms/step\n"
          ]
        }
      ],
      "source": [
        "predictions = model.predict(x_test)"
      ]
    },
    {
      "cell_type": "code",
      "execution_count": 94,
      "metadata": {
        "colab": {
          "base_uri": "https://localhost:8080/"
        },
        "id": "4C5N36ee96pR",
        "outputId": "47be177c-ada8-4cd8-bd53-5a5cf51c96d9"
      },
      "outputs": [
        {
          "data": {
            "text/plain": [
              "array([[1.78310931e-01],\n",
              "       [8.43782425e-01],\n",
              "       [1.72432302e-03],\n",
              "       [9.02619302e-01],\n",
              "       [9.43795621e-01],\n",
              "       [2.66990196e-02],\n",
              "       [9.68400985e-02],\n",
              "       [4.24909331e-02],\n",
              "       [8.51190765e-04],\n",
              "       [1.33244377e-02],\n",
              "       [1.16960876e-01],\n",
              "       [6.35167003e-01],\n",
              "       [3.36694978e-02],\n",
              "       [9.65406239e-01],\n",
              "       [9.97239411e-01],\n",
              "       [9.98258591e-01],\n",
              "       [1.74358822e-02]], dtype=float32)"
            ]
          },
          "execution_count": 94,
          "metadata": {},
          "output_type": "execute_result"
        }
      ],
      "source": [
        "predictions[::1500]"
      ]
    },
    {
      "cell_type": "code",
      "execution_count": null,
      "metadata": {
        "id": "-rGWwRGs96v2"
      },
      "outputs": [],
      "source": []
    },
    {
      "cell_type": "code",
      "execution_count": null,
      "metadata": {
        "id": "0twuPCnc96zj"
      },
      "outputs": [],
      "source": []
    },
    {
      "cell_type": "code",
      "execution_count": null,
      "metadata": {
        "id": "pUl7M6nl9629"
      },
      "outputs": [],
      "source": []
    },
    {
      "cell_type": "code",
      "execution_count": null,
      "metadata": {
        "id": "Wpj2kP1R96-u"
      },
      "outputs": [],
      "source": []
    },
    {
      "cell_type": "code",
      "execution_count": null,
      "metadata": {
        "id": "yevAAt7s97CO"
      },
      "outputs": [],
      "source": []
    },
    {
      "cell_type": "code",
      "execution_count": null,
      "metadata": {
        "id": "rLBHsgcg97Ot"
      },
      "outputs": [],
      "source": []
    },
    {
      "cell_type": "code",
      "execution_count": null,
      "metadata": {
        "id": "TeTJI9BM97ZT"
      },
      "outputs": [],
      "source": []
    }
  ],
  "metadata": {
    "colab": {
      "provenance": [],
      "toc_visible": true
    },
    "kernelspec": {
      "display_name": "Python 3",
      "name": "python3"
    },
    "language_info": {
      "name": "python"
    }
  },
  "nbformat": 4,
  "nbformat_minor": 0
}
