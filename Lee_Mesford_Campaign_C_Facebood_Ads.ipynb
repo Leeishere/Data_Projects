{
 "cells": [
  {
   "cell_type": "code",
   "execution_count": 78,
   "id": "8d424fcc",
   "metadata": {},
   "outputs": [],
   "source": [
    "import numpy as np\n",
    "import pandas as pd\n",
    "import seaborn as sns\n",
    "import matplotlib.pyplot as plt\n",
    "import plotly.express as px\n",
    "from plotly.subplots import make_subplots\n",
    "import plotly.graph_objects as go\n",
    "plt.style.use('seaborn-v0_8-colorblind')\n",
    "import warnings\n",
    "warnings.filterwarnings('ignore')\n",
    "from itertools import combinations\n",
    "import utils\n",
    "import modeling_utils\n",
    "import bayes_utils\n",
    "import joblib\n",
    "from joblib import dump,load\n",
    "from sklearn.pipeline import make_pipeline\n",
    "from sklearn.linear_model import Lasso, ElasticNet\n",
    "from sklearn.preprocessing import PolynomialFeatures,StandardScaler\n",
    "from sklearn.model_selection import train_test_split\n",
    "from sklearn.model_selection import GridSearchCV\n",
    "from sklearn.metrics import r2_score, mean_absolute_error\n",
    "pd.set_option('display.max_rows', 100)\n",
    "pd.set_option('display.width',1000)"
   ]
  },
  {
   "cell_type": "code",
   "execution_count": 89,
   "id": "1188a92e",
   "metadata": {},
   "outputs": [
    {
     "data": {
      "text/plain": [
       "<module 'bayes_utils' from 'c:\\\\Users\\\\user\\\\OneDrive\\\\Documents\\\\D_I_G\\\\ML\\\\Data Analysis Projects\\\\Facebook Ad Campaign Analysis\\\\Facebook_Campaign_Review\\\\bayes_utils.py'>"
      ]
     },
     "execution_count": 89,
     "metadata": {},
     "output_type": "execute_result"
    }
   ],
   "source": [
    "# Reload utils module to ensure latest changes are loaded\n",
    "import importlib\n",
    "import utils\n",
    "importlib.reload(modeling_utils)\n",
    "importlib.reload(utils)\n",
    "importlib.reload(bayes_utils)"
   ]
  },
  {
   "cell_type": "code",
   "execution_count": null,
   "id": "f56c08ed",
   "metadata": {},
   "outputs": [],
   "source": [
    "data=utils.get_data()\n",
    "#label age and gender with numeric datatypes\n",
    "#data=modeling_utils.age_gender_rename(data)\n",
    "#data=modeling_utils.age_gender_rename(data)\n",
    "#cap outliers\n",
    "cap_dict={}#joblib.load('model_feature_ceilings.joblib')\n",
    "#predict number of leads\n",
    "lead_model_info=joblib.load('lead_prediction_model_info.joblib')\n",
    "data=modeling_utils.make_predictions_pipeline(data,lead_model_info,cap_dict)\n",
    "#predict approved conversions to sale\n",
    "approved_conversion_model_info=joblib.load('approved_conversion_model_info.joblib')\n",
    "data=modeling_utils.make_predictions_pipeline(data,approved_conversion_model_info,cap_dict)\n",
    "#get 3 conversion classes based on age gender and interest, and CostPerMille. \n",
    "#These are observed \n",
    "data=modeling_utils.get_prob_class(data,'Approved_Conversion','Total_Conversion','Three_Conversion_Classes',3,'ObservedConvClass')\n",
    "#these are predicted\n",
    "#data=modeling_utils.add_conversion_rate_prediction(data) #an overfit model\n",
    "data=modeling_utils.get_conversion_rate_preds(data)\n",
    "data['Three_Conversion_Classes'].replace((0.0,0.33,0.67),('Low','Medium','High'),inplace=True)"
   ]
  },
  {
   "cell_type": "markdown",
   "id": "6d2075e7",
   "metadata": {},
   "source": [
    "# A closer Look a Campaign C because it is more financially active than the others"
   ]
  },
  {
   "cell_type": "code",
   "execution_count": 82,
   "id": "68a14bb1",
   "metadata": {},
   "outputs": [
    {
     "data": {
      "text/html": [
       "<style type=\"text/css\">\n",
       "#T_95ad0 .col_heading {\n",
       "  background-color: #0E3AA8;\n",
       "  color: white;\n",
       "  border: 3px solid black;\n",
       "}\n",
       "#T_95ad0 .row_heading {\n",
       "  background-color: #0E3AA8;\n",
       "  color: white;\n",
       "  border: 3px solid black;\n",
       "}\n",
       "#T_95ad0 td {\n",
       "  background-color: #4D7BED;\n",
       "  color: white;\n",
       "  border: 3px solid black;\n",
       "}\n",
       "#T_95ad0 th.blank {\n",
       "  background-color: #0E3AA8;\n",
       "  color: white;\n",
       "  text-align: center;\n",
       "  border: 3px solid black;\n",
       "}\n",
       "</style>\n",
       "<table id=\"T_95ad0\">\n",
       "  <thead>\n",
       "    <tr>\n",
       "      <th class=\"blank level0\" >&nbsp;</th>\n",
       "      <th id=\"T_95ad0_level0_col0\" class=\"col_heading level0 col0\" >CostPerMille</th>\n",
       "      <th id=\"T_95ad0_level0_col1\" class=\"col_heading level0 col1\" >ClickThroughRate</th>\n",
       "      <th id=\"T_95ad0_level0_col2\" class=\"col_heading level0 col2\" >ClickToLeadRate</th>\n",
       "      <th id=\"T_95ad0_level0_col3\" class=\"col_heading level0 col3\" >ConversionRate</th>\n",
       "    </tr>\n",
       "  </thead>\n",
       "  <tbody>\n",
       "    <tr>\n",
       "      <th id=\"T_95ad0_level0_row0\" class=\"row_heading level0 row0\" >0</th>\n",
       "      <td id=\"T_95ad0_row0_col0\" class=\"data row0 col0\" >0.250558</td>\n",
       "      <td id=\"T_95ad0_row0_col1\" class=\"data row0 col1\" >0.016221</td>\n",
       "      <td id=\"T_95ad0_row0_col2\" class=\"data row0 col2\" >0.149409</td>\n",
       "      <td id=\"T_95ad0_row0_col3\" class=\"data row0 col3\" >0.324116</td>\n",
       "    </tr>\n",
       "  </tbody>\n",
       "</table>\n"
      ],
      "text/plain": [
       "<pandas.io.formats.style.Styler at 0x27b11a9b260>"
      ]
     },
     "metadata": {},
     "output_type": "display_data"
    },
    {
     "data": {
      "application/vnd.plotly.v1+json": {
       "config": {
        "plotlyServerURL": "https://plot.ly"
       },
       "data": [
        {
         "hovertemplate": "value=%{x}<br>stage=%{y}<extra></extra>",
         "legendgroup": "",
         "marker": {
          "color": "#636efa"
         },
         "name": "",
         "orientation": "h",
         "showlegend": false,
         "type": "funnel",
         "x": {
          "bdata": "3AF2zMQt60C6JtCeFS/SQAAAAACAnOFAAAAAAADapEAAAAAAAECLQAAAAAAASvVA",
          "dtype": "f8"
         },
         "xaxis": "x",
         "y": [
          "Spent",
          "Impressions Per 1,000 (Mille)",
          "Clicks",
          "Leads",
          "Sales",
          "Revenue"
         ],
         "yaxis": "y"
        }
       ],
       "layout": {
        "legend": {
         "tracegroupgap": 0
        },
        "margin": {
         "t": 60
        },
        "template": {
         "data": {
          "bar": [
           {
            "error_x": {
             "color": "#2a3f5f"
            },
            "error_y": {
             "color": "#2a3f5f"
            },
            "marker": {
             "line": {
              "color": "#E5ECF6",
              "width": 0.5
             },
             "pattern": {
              "fillmode": "overlay",
              "size": 10,
              "solidity": 0.2
             }
            },
            "type": "bar"
           }
          ],
          "barpolar": [
           {
            "marker": {
             "line": {
              "color": "#E5ECF6",
              "width": 0.5
             },
             "pattern": {
              "fillmode": "overlay",
              "size": 10,
              "solidity": 0.2
             }
            },
            "type": "barpolar"
           }
          ],
          "carpet": [
           {
            "aaxis": {
             "endlinecolor": "#2a3f5f",
             "gridcolor": "white",
             "linecolor": "white",
             "minorgridcolor": "white",
             "startlinecolor": "#2a3f5f"
            },
            "baxis": {
             "endlinecolor": "#2a3f5f",
             "gridcolor": "white",
             "linecolor": "white",
             "minorgridcolor": "white",
             "startlinecolor": "#2a3f5f"
            },
            "type": "carpet"
           }
          ],
          "choropleth": [
           {
            "colorbar": {
             "outlinewidth": 0,
             "ticks": ""
            },
            "type": "choropleth"
           }
          ],
          "contour": [
           {
            "colorbar": {
             "outlinewidth": 0,
             "ticks": ""
            },
            "colorscale": [
             [
              0,
              "#0d0887"
             ],
             [
              0.1111111111111111,
              "#46039f"
             ],
             [
              0.2222222222222222,
              "#7201a8"
             ],
             [
              0.3333333333333333,
              "#9c179e"
             ],
             [
              0.4444444444444444,
              "#bd3786"
             ],
             [
              0.5555555555555556,
              "#d8576b"
             ],
             [
              0.6666666666666666,
              "#ed7953"
             ],
             [
              0.7777777777777778,
              "#fb9f3a"
             ],
             [
              0.8888888888888888,
              "#fdca26"
             ],
             [
              1,
              "#f0f921"
             ]
            ],
            "type": "contour"
           }
          ],
          "contourcarpet": [
           {
            "colorbar": {
             "outlinewidth": 0,
             "ticks": ""
            },
            "type": "contourcarpet"
           }
          ],
          "heatmap": [
           {
            "colorbar": {
             "outlinewidth": 0,
             "ticks": ""
            },
            "colorscale": [
             [
              0,
              "#0d0887"
             ],
             [
              0.1111111111111111,
              "#46039f"
             ],
             [
              0.2222222222222222,
              "#7201a8"
             ],
             [
              0.3333333333333333,
              "#9c179e"
             ],
             [
              0.4444444444444444,
              "#bd3786"
             ],
             [
              0.5555555555555556,
              "#d8576b"
             ],
             [
              0.6666666666666666,
              "#ed7953"
             ],
             [
              0.7777777777777778,
              "#fb9f3a"
             ],
             [
              0.8888888888888888,
              "#fdca26"
             ],
             [
              1,
              "#f0f921"
             ]
            ],
            "type": "heatmap"
           }
          ],
          "histogram": [
           {
            "marker": {
             "pattern": {
              "fillmode": "overlay",
              "size": 10,
              "solidity": 0.2
             }
            },
            "type": "histogram"
           }
          ],
          "histogram2d": [
           {
            "colorbar": {
             "outlinewidth": 0,
             "ticks": ""
            },
            "colorscale": [
             [
              0,
              "#0d0887"
             ],
             [
              0.1111111111111111,
              "#46039f"
             ],
             [
              0.2222222222222222,
              "#7201a8"
             ],
             [
              0.3333333333333333,
              "#9c179e"
             ],
             [
              0.4444444444444444,
              "#bd3786"
             ],
             [
              0.5555555555555556,
              "#d8576b"
             ],
             [
              0.6666666666666666,
              "#ed7953"
             ],
             [
              0.7777777777777778,
              "#fb9f3a"
             ],
             [
              0.8888888888888888,
              "#fdca26"
             ],
             [
              1,
              "#f0f921"
             ]
            ],
            "type": "histogram2d"
           }
          ],
          "histogram2dcontour": [
           {
            "colorbar": {
             "outlinewidth": 0,
             "ticks": ""
            },
            "colorscale": [
             [
              0,
              "#0d0887"
             ],
             [
              0.1111111111111111,
              "#46039f"
             ],
             [
              0.2222222222222222,
              "#7201a8"
             ],
             [
              0.3333333333333333,
              "#9c179e"
             ],
             [
              0.4444444444444444,
              "#bd3786"
             ],
             [
              0.5555555555555556,
              "#d8576b"
             ],
             [
              0.6666666666666666,
              "#ed7953"
             ],
             [
              0.7777777777777778,
              "#fb9f3a"
             ],
             [
              0.8888888888888888,
              "#fdca26"
             ],
             [
              1,
              "#f0f921"
             ]
            ],
            "type": "histogram2dcontour"
           }
          ],
          "mesh3d": [
           {
            "colorbar": {
             "outlinewidth": 0,
             "ticks": ""
            },
            "type": "mesh3d"
           }
          ],
          "parcoords": [
           {
            "line": {
             "colorbar": {
              "outlinewidth": 0,
              "ticks": ""
             }
            },
            "type": "parcoords"
           }
          ],
          "pie": [
           {
            "automargin": true,
            "type": "pie"
           }
          ],
          "scatter": [
           {
            "fillpattern": {
             "fillmode": "overlay",
             "size": 10,
             "solidity": 0.2
            },
            "type": "scatter"
           }
          ],
          "scatter3d": [
           {
            "line": {
             "colorbar": {
              "outlinewidth": 0,
              "ticks": ""
             }
            },
            "marker": {
             "colorbar": {
              "outlinewidth": 0,
              "ticks": ""
             }
            },
            "type": "scatter3d"
           }
          ],
          "scattercarpet": [
           {
            "marker": {
             "colorbar": {
              "outlinewidth": 0,
              "ticks": ""
             }
            },
            "type": "scattercarpet"
           }
          ],
          "scattergeo": [
           {
            "marker": {
             "colorbar": {
              "outlinewidth": 0,
              "ticks": ""
             }
            },
            "type": "scattergeo"
           }
          ],
          "scattergl": [
           {
            "marker": {
             "colorbar": {
              "outlinewidth": 0,
              "ticks": ""
             }
            },
            "type": "scattergl"
           }
          ],
          "scattermap": [
           {
            "marker": {
             "colorbar": {
              "outlinewidth": 0,
              "ticks": ""
             }
            },
            "type": "scattermap"
           }
          ],
          "scattermapbox": [
           {
            "marker": {
             "colorbar": {
              "outlinewidth": 0,
              "ticks": ""
             }
            },
            "type": "scattermapbox"
           }
          ],
          "scatterpolar": [
           {
            "marker": {
             "colorbar": {
              "outlinewidth": 0,
              "ticks": ""
             }
            },
            "type": "scatterpolar"
           }
          ],
          "scatterpolargl": [
           {
            "marker": {
             "colorbar": {
              "outlinewidth": 0,
              "ticks": ""
             }
            },
            "type": "scatterpolargl"
           }
          ],
          "scatterternary": [
           {
            "marker": {
             "colorbar": {
              "outlinewidth": 0,
              "ticks": ""
             }
            },
            "type": "scatterternary"
           }
          ],
          "surface": [
           {
            "colorbar": {
             "outlinewidth": 0,
             "ticks": ""
            },
            "colorscale": [
             [
              0,
              "#0d0887"
             ],
             [
              0.1111111111111111,
              "#46039f"
             ],
             [
              0.2222222222222222,
              "#7201a8"
             ],
             [
              0.3333333333333333,
              "#9c179e"
             ],
             [
              0.4444444444444444,
              "#bd3786"
             ],
             [
              0.5555555555555556,
              "#d8576b"
             ],
             [
              0.6666666666666666,
              "#ed7953"
             ],
             [
              0.7777777777777778,
              "#fb9f3a"
             ],
             [
              0.8888888888888888,
              "#fdca26"
             ],
             [
              1,
              "#f0f921"
             ]
            ],
            "type": "surface"
           }
          ],
          "table": [
           {
            "cells": {
             "fill": {
              "color": "#EBF0F8"
             },
             "line": {
              "color": "white"
             }
            },
            "header": {
             "fill": {
              "color": "#C8D4E3"
             },
             "line": {
              "color": "white"
             }
            },
            "type": "table"
           }
          ]
         },
         "layout": {
          "annotationdefaults": {
           "arrowcolor": "#2a3f5f",
           "arrowhead": 0,
           "arrowwidth": 1
          },
          "autotypenumbers": "strict",
          "coloraxis": {
           "colorbar": {
            "outlinewidth": 0,
            "ticks": ""
           }
          },
          "colorscale": {
           "diverging": [
            [
             0,
             "#8e0152"
            ],
            [
             0.1,
             "#c51b7d"
            ],
            [
             0.2,
             "#de77ae"
            ],
            [
             0.3,
             "#f1b6da"
            ],
            [
             0.4,
             "#fde0ef"
            ],
            [
             0.5,
             "#f7f7f7"
            ],
            [
             0.6,
             "#e6f5d0"
            ],
            [
             0.7,
             "#b8e186"
            ],
            [
             0.8,
             "#7fbc41"
            ],
            [
             0.9,
             "#4d9221"
            ],
            [
             1,
             "#276419"
            ]
           ],
           "sequential": [
            [
             0,
             "#0d0887"
            ],
            [
             0.1111111111111111,
             "#46039f"
            ],
            [
             0.2222222222222222,
             "#7201a8"
            ],
            [
             0.3333333333333333,
             "#9c179e"
            ],
            [
             0.4444444444444444,
             "#bd3786"
            ],
            [
             0.5555555555555556,
             "#d8576b"
            ],
            [
             0.6666666666666666,
             "#ed7953"
            ],
            [
             0.7777777777777778,
             "#fb9f3a"
            ],
            [
             0.8888888888888888,
             "#fdca26"
            ],
            [
             1,
             "#f0f921"
            ]
           ],
           "sequentialminus": [
            [
             0,
             "#0d0887"
            ],
            [
             0.1111111111111111,
             "#46039f"
            ],
            [
             0.2222222222222222,
             "#7201a8"
            ],
            [
             0.3333333333333333,
             "#9c179e"
            ],
            [
             0.4444444444444444,
             "#bd3786"
            ],
            [
             0.5555555555555556,
             "#d8576b"
            ],
            [
             0.6666666666666666,
             "#ed7953"
            ],
            [
             0.7777777777777778,
             "#fb9f3a"
            ],
            [
             0.8888888888888888,
             "#fdca26"
            ],
            [
             1,
             "#f0f921"
            ]
           ]
          },
          "colorway": [
           "#636efa",
           "#EF553B",
           "#00cc96",
           "#ab63fa",
           "#FFA15A",
           "#19d3f3",
           "#FF6692",
           "#B6E880",
           "#FF97FF",
           "#FECB52"
          ],
          "font": {
           "color": "#2a3f5f"
          },
          "geo": {
           "bgcolor": "white",
           "lakecolor": "white",
           "landcolor": "#E5ECF6",
           "showlakes": true,
           "showland": true,
           "subunitcolor": "white"
          },
          "hoverlabel": {
           "align": "left"
          },
          "hovermode": "closest",
          "mapbox": {
           "style": "light"
          },
          "paper_bgcolor": "white",
          "plot_bgcolor": "#E5ECF6",
          "polar": {
           "angularaxis": {
            "gridcolor": "white",
            "linecolor": "white",
            "ticks": ""
           },
           "bgcolor": "#E5ECF6",
           "radialaxis": {
            "gridcolor": "white",
            "linecolor": "white",
            "ticks": ""
           }
          },
          "scene": {
           "xaxis": {
            "backgroundcolor": "#E5ECF6",
            "gridcolor": "white",
            "gridwidth": 2,
            "linecolor": "white",
            "showbackground": true,
            "ticks": "",
            "zerolinecolor": "white"
           },
           "yaxis": {
            "backgroundcolor": "#E5ECF6",
            "gridcolor": "white",
            "gridwidth": 2,
            "linecolor": "white",
            "showbackground": true,
            "ticks": "",
            "zerolinecolor": "white"
           },
           "zaxis": {
            "backgroundcolor": "#E5ECF6",
            "gridcolor": "white",
            "gridwidth": 2,
            "linecolor": "white",
            "showbackground": true,
            "ticks": "",
            "zerolinecolor": "white"
           }
          },
          "shapedefaults": {
           "line": {
            "color": "#2a3f5f"
           }
          },
          "ternary": {
           "aaxis": {
            "gridcolor": "white",
            "linecolor": "white",
            "ticks": ""
           },
           "baxis": {
            "gridcolor": "white",
            "linecolor": "white",
            "ticks": ""
           },
           "bgcolor": "#E5ECF6",
           "caxis": {
            "gridcolor": "white",
            "linecolor": "white",
            "ticks": ""
           }
          },
          "title": {
           "x": 0.05
          },
          "xaxis": {
           "automargin": true,
           "gridcolor": "white",
           "linecolor": "white",
           "ticks": "",
           "title": {
            "standoff": 15
           },
           "zerolinecolor": "white",
           "zerolinewidth": 2
          },
          "yaxis": {
           "automargin": true,
           "gridcolor": "white",
           "linecolor": "white",
           "ticks": "",
           "title": {
            "standoff": 15
           },
           "zerolinecolor": "white",
           "zerolinewidth": 2
          }
         }
        },
        "xaxis": {
         "anchor": "y",
         "domain": [
          0,
          1
         ],
         "title": {
          "text": "value"
         }
        },
        "yaxis": {
         "anchor": "x",
         "domain": [
          0,
          1
         ],
         "title": {
          "text": "stage"
         }
        }
       }
      }
     },
     "metadata": {},
     "output_type": "display_data"
    }
   ],
   "source": [
    "utils.sales_funnel_plot(data)"
   ]
  },
  {
   "cell_type": "markdown",
   "id": "28b85fc2",
   "metadata": {},
   "source": [
    "# predictive modeling per age, gender, interests, and spent  "
   ]
  },
  {
   "cell_type": "code",
   "execution_count": 83,
   "id": "cf0f9a12",
   "metadata": {},
   "outputs": [
    {
     "data": {
      "application/vnd.plotly.v1+json": {
       "config": {
        "plotlyServerURL": "https://plot.ly"
       },
       "data": [
        {
         "marker": {
          "color": "black",
          "opacity": 0.6
         },
         "mode": "markers",
         "name": "Actual Leads",
         "scene": "scene",
         "type": "scatter3d",
         "x": {
          "bdata": "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",
          "dtype": "f8"
         },
         "y": {
          "bdata": "AAABAAIAAwAEAAUABgAHAAgACQAKAAsADAANAA4ADwAQABEAEgATABQAFQAWABcAGAAZABoAGwAcAB0AHgAfACAAIQAiACMAJAAlACYAJwAoACkAKgArACwALQAuAC8AMAAxADIAMwA0ADUANgA3ADgAOQA6ADsAPAA9AD4APwBAAEEAQgBDAEQARQBGAEcASABJAEoASwBMAE0ATgBPAFAAUQBSAFMAVABVAFYAVwBYAFkAWgBbAFwAXQBeAF8AYABhAGIAYwBkAGUAZgBnAGgAaQBqAGsAbABtAG4AbwBwAHEAcgBzAHQAdQB2AHcAeAB5AHoAewB8AH0AfgB/AIAAgQCCAIMAhACFAIYAhwCIAIkAigCLAIwAjQCOAI8AkACRAJIAkwCUAJUAlgCXAJgAmQCaAJsAnACdAJ4AnwCgAKEAogCjAKQApQCmAKcAqACpAKoAqwCsAK0ArgCvALAAsQCyALMAtAC1ALYAtwC4ALkAugC7ALwAvQC+AL8AwADBAMIAwwDEAMUAxgDHAMgAyQDKAMsAzADNAM4AzwDQANEA0gDTANQA1QDWANcA2ADZANoA2wDcAN0A3gDfAOAA4QDiAOMA5ADlAOYA5wDoAOkA6gDrAOwA7QDuAO8A8ADxAPIA8wD0APUA9gD3APgA+QD6APsA/AD9AP4A/wAAAQEBAgEDAQQBBQEGAQcBCAEJAQoBCwEMAQ0BDgEPARABEQESARMBFAE=",
          "dtype": "i2"
         },
         "z": {
          "bdata": "BQgQIRwMDBUWBQEGAgc/EycHAhUBEhECAgoDBxULAhQEDAQXDA4hOl5JEhIjDAgHBiEIIy9CDAYGCwsLBAYBBAIEAgoLAQMFAQIYAysBBgUFBQkCEwEUAgEZCQEOAwMLCAQIAgMGAQcDGggUCQoOBAoGBgQCEBggBQENBAUICQIBAQMDAQICAwMCAQEBFgkQAQUCAwoREgcJAQMDAgMBBQESHwEGAwINBQoCAwEeBAQCEwEmCxEBBQICAQEEDwMBBwIDAgICAwEBAgEDAwIBAQEXBBIKEQcDAgECCAgjCR4EBQsLAgsKAgEOCwENBA0DAggFAR0GJggMCQUBAwQDAQsLKwQNAQMBAQEEAgQBAgQFAgEDAQ==",
          "dtype": "i1"
         }
        },
        {
         "marker": {
          "color": "yellow",
          "opacity": 0.6
         },
         "mode": "markers",
         "name": "Predicted Leads",
         "scene": "scene",
         "type": "scatter3d",
         "x": {
          "bdata": "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",
          "dtype": "f8"
         },
         "y": {
          "bdata": "AAABAAIAAwAEAAUABgAHAAgACQAKAAsADAANAA4ADwAQABEAEgATABQAFQAWABcAGAAZABoAGwAcAB0AHgAfACAAIQAiACMAJAAlACYAJwAoACkAKgArACwALQAuAC8AMAAxADIAMwA0ADUANgA3ADgAOQA6ADsAPAA9AD4APwBAAEEAQgBDAEQARQBGAEcASABJAEoASwBMAE0ATgBPAFAAUQBSAFMAVABVAFYAVwBYAFkAWgBbAFwAXQBeAF8AYABhAGIAYwBkAGUAZgBnAGgAaQBqAGsAbABtAG4AbwBwAHEAcgBzAHQAdQB2AHcAeAB5AHoAewB8AH0AfgB/AIAAgQCCAIMAhACFAIYAhwCIAIkAigCLAIwAjQCOAI8AkACRAJIAkwCUAJUAlgCXAJgAmQCaAJsAnACdAJ4AnwCgAKEAogCjAKQApQCmAKcAqACpAKoAqwCsAK0ArgCvALAAsQCyALMAtAC1ALYAtwC4ALkAugC7ALwAvQC+AL8AwADBAMIAwwDEAMUAxgDHAMgAyQDKAMsAzADNAM4AzwDQANEA0gDTANQA1QDWANcA2ADZANoA2wDcAN0A3gDfAOAA4QDiAOMA5ADlAOYA5wDoAOkA6gDrAOwA7QDuAO8A8ADxAPIA8wD0APUA9gD3APgA+QD6APsA/AD9AP4A/wAAAQEBAgEDAQQBBQEGAQcBCAEJAQoBCwEMAQ0BDgEPARABEQESARMBFAE=",
          "dtype": "i2"
         },
         "z": {
          "bdata": "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",
          "dtype": "f8"
         }
        },
        {
         "marker": {
          "color": "black",
          "opacity": 0.6
         },
         "mode": "markers",
         "name": "Actual Sales",
         "scene": "scene2",
         "type": "scatter3d",
         "x": {
          "bdata": "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",
          "dtype": "f8"
         },
         "y": {
          "bdata": "AAABAAIAAwAEAAUABgAHAAgACQAKAAsADAANAA4ADwAQABEAEgATABQAFQAWABcAGAAZABoAGwAcAB0AHgAfACAAIQAiACMAJAAlACYAJwAoACkAKgArACwALQAuAC8AMAAxADIAMwA0ADUANgA3ADgAOQA6ADsAPAA9AD4APwBAAEEAQgBDAEQARQBGAEcASABJAEoASwBMAE0ATgBPAFAAUQBSAFMAVABVAFYAVwBYAFkAWgBbAFwAXQBeAF8AYABhAGIAYwBkAGUAZgBnAGgAaQBqAGsAbABtAG4AbwBwAHEAcgBzAHQAdQB2AHcAeAB5AHoAewB8AH0AfgB/AIAAgQCCAIMAhACFAIYAhwCIAIkAigCLAIwAjQCOAI8AkACRAJIAkwCUAJUAlgCXAJgAmQCaAJsAnACdAJ4AnwCgAKEAogCjAKQApQCmAKcAqACpAKoAqwCsAK0ArgCvALAAsQCyALMAtAC1ALYAtwC4ALkAugC7ALwAvQC+AL8AwADBAMIAwwDEAMUAxgDHAMgAyQDKAMsAzADNAM4AzwDQANEA0gDTANQA1QDWANcA2ADZANoA2wDcAN0A3gDfAOAA4QDiAOMA5ADlAOYA5wDoAOkA6gDrAOwA7QDuAO8A8ADxAPIA8wD0APUA9gD3APgA+QD6APsA/AD9AP4A/wAAAQEBAgEDAQQBBQEGAQcBCAEJAQoBCwEMAQ0BDgEPARABEQESARMBFAE=",
          "dtype": "i2"
         },
         "z": {
          "bdata": "AgAGBwgFBQUJAQACAAMTBhECAgsABQUCAQQCAgIAAQQAAQEJAwgNGB8lBwgMBwICAgkABwodAgIBBQUEAQEABAEBAAMDAAEBAAADAg4BAQIAAQECBgALAAAIAwADAQAFAgEBAAECAQICBwQHBQEFAQQAAgEAAgkLAgAIAgMDBwEBAAIBAAEAAAABAAEBBwIFAQEAAgIJAgMCAQAAAAIAAgAHCQAAAAAEAgECAQAKAQIABgENAwgAAQAAAQAABgIBBAACAQEBAQABAAABAQIBAAEHAAMFBwYBAQEBAQEGAQ0AAwIBAAEEAgAFBAAEAQIAAAICAAgDDgIFAwAAAAMCAAEDFQIEAQEBAQAAAQABAQECAQAAAA==",
          "dtype": "i1"
         }
        },
        {
         "marker": {
          "color": "yellow",
          "opacity": 0.6
         },
         "mode": "markers",
         "name": "Predicted Sales",
         "scene": "scene2",
         "type": "scatter3d",
         "x": {
          "bdata": "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",
          "dtype": "f8"
         },
         "y": {
          "bdata": "AAABAAIAAwAEAAUABgAHAAgACQAKAAsADAANAA4ADwAQABEAEgATABQAFQAWABcAGAAZABoAGwAcAB0AHgAfACAAIQAiACMAJAAlACYAJwAoACkAKgArACwALQAuAC8AMAAxADIAMwA0ADUANgA3ADgAOQA6ADsAPAA9AD4APwBAAEEAQgBDAEQARQBGAEcASABJAEoASwBMAE0ATgBPAFAAUQBSAFMAVABVAFYAVwBYAFkAWgBbAFwAXQBeAF8AYABhAGIAYwBkAGUAZgBnAGgAaQBqAGsAbABtAG4AbwBwAHEAcgBzAHQAdQB2AHcAeAB5AHoAewB8AH0AfgB/AIAAgQCCAIMAhACFAIYAhwCIAIkAigCLAIwAjQCOAI8AkACRAJIAkwCUAJUAlgCXAJgAmQCaAJsAnACdAJ4AnwCgAKEAogCjAKQApQCmAKcAqACpAKoAqwCsAK0ArgCvALAAsQCyALMAtAC1ALYAtwC4ALkAugC7ALwAvQC+AL8AwADBAMIAwwDEAMUAxgDHAMgAyQDKAMsAzADNAM4AzwDQANEA0gDTANQA1QDWANcA2ADZANoA2wDcAN0A3gDfAOAA4QDiAOMA5ADlAOYA5wDoAOkA6gDrAOwA7QDuAO8A8ADxAPIA8wD0APUA9gD3APgA+QD6APsA/AD9AP4A/wAAAQEBAgEDAQQBBQEGAQcBCAEJAQoBCwEMAQ0BDgEPARABEQESARMBFAE=",
          "dtype": "i2"
         },
         "z": {
          "bdata": "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",
          "dtype": "f8"
         }
        }
       ],
       "layout": {
        "height": 600,
        "scene": {
         "domain": {
          "x": [
           0,
           0.45
          ],
          "y": [
           0,
           1
          ]
         },
         "xaxis": {
          "title": {
           "text": "X = Spent"
          }
         },
         "yaxis": {
          "title": {
           "text": "Y = Demographic Combinations"
          }
         },
         "zaxis": {
          "title": {
           "text": "Z = Leads"
          }
         }
        },
        "scene2": {
         "domain": {
          "x": [
           0.55,
           1
          ],
          "y": [
           0,
           1
          ]
         },
         "xaxis": {
          "title": {
           "text": "X = Spent"
          }
         },
         "yaxis": {
          "title": {
           "text": "Y = Demographic Combinations"
          }
         },
         "zaxis": {
          "title": {
           "text": "Z = Sales"
          }
         }
        },
        "template": {
         "data": {
          "bar": [
           {
            "error_x": {
             "color": "#2a3f5f"
            },
            "error_y": {
             "color": "#2a3f5f"
            },
            "marker": {
             "line": {
              "color": "#E5ECF6",
              "width": 0.5
             },
             "pattern": {
              "fillmode": "overlay",
              "size": 10,
              "solidity": 0.2
             }
            },
            "type": "bar"
           }
          ],
          "barpolar": [
           {
            "marker": {
             "line": {
              "color": "#E5ECF6",
              "width": 0.5
             },
             "pattern": {
              "fillmode": "overlay",
              "size": 10,
              "solidity": 0.2
             }
            },
            "type": "barpolar"
           }
          ],
          "carpet": [
           {
            "aaxis": {
             "endlinecolor": "#2a3f5f",
             "gridcolor": "white",
             "linecolor": "white",
             "minorgridcolor": "white",
             "startlinecolor": "#2a3f5f"
            },
            "baxis": {
             "endlinecolor": "#2a3f5f",
             "gridcolor": "white",
             "linecolor": "white",
             "minorgridcolor": "white",
             "startlinecolor": "#2a3f5f"
            },
            "type": "carpet"
           }
          ],
          "choropleth": [
           {
            "colorbar": {
             "outlinewidth": 0,
             "ticks": ""
            },
            "type": "choropleth"
           }
          ],
          "contour": [
           {
            "colorbar": {
             "outlinewidth": 0,
             "ticks": ""
            },
            "colorscale": [
             [
              0,
              "#0d0887"
             ],
             [
              0.1111111111111111,
              "#46039f"
             ],
             [
              0.2222222222222222,
              "#7201a8"
             ],
             [
              0.3333333333333333,
              "#9c179e"
             ],
             [
              0.4444444444444444,
              "#bd3786"
             ],
             [
              0.5555555555555556,
              "#d8576b"
             ],
             [
              0.6666666666666666,
              "#ed7953"
             ],
             [
              0.7777777777777778,
              "#fb9f3a"
             ],
             [
              0.8888888888888888,
              "#fdca26"
             ],
             [
              1,
              "#f0f921"
             ]
            ],
            "type": "contour"
           }
          ],
          "contourcarpet": [
           {
            "colorbar": {
             "outlinewidth": 0,
             "ticks": ""
            },
            "type": "contourcarpet"
           }
          ],
          "heatmap": [
           {
            "colorbar": {
             "outlinewidth": 0,
             "ticks": ""
            },
            "colorscale": [
             [
              0,
              "#0d0887"
             ],
             [
              0.1111111111111111,
              "#46039f"
             ],
             [
              0.2222222222222222,
              "#7201a8"
             ],
             [
              0.3333333333333333,
              "#9c179e"
             ],
             [
              0.4444444444444444,
              "#bd3786"
             ],
             [
              0.5555555555555556,
              "#d8576b"
             ],
             [
              0.6666666666666666,
              "#ed7953"
             ],
             [
              0.7777777777777778,
              "#fb9f3a"
             ],
             [
              0.8888888888888888,
              "#fdca26"
             ],
             [
              1,
              "#f0f921"
             ]
            ],
            "type": "heatmap"
           }
          ],
          "histogram": [
           {
            "marker": {
             "pattern": {
              "fillmode": "overlay",
              "size": 10,
              "solidity": 0.2
             }
            },
            "type": "histogram"
           }
          ],
          "histogram2d": [
           {
            "colorbar": {
             "outlinewidth": 0,
             "ticks": ""
            },
            "colorscale": [
             [
              0,
              "#0d0887"
             ],
             [
              0.1111111111111111,
              "#46039f"
             ],
             [
              0.2222222222222222,
              "#7201a8"
             ],
             [
              0.3333333333333333,
              "#9c179e"
             ],
             [
              0.4444444444444444,
              "#bd3786"
             ],
             [
              0.5555555555555556,
              "#d8576b"
             ],
             [
              0.6666666666666666,
              "#ed7953"
             ],
             [
              0.7777777777777778,
              "#fb9f3a"
             ],
             [
              0.8888888888888888,
              "#fdca26"
             ],
             [
              1,
              "#f0f921"
             ]
            ],
            "type": "histogram2d"
           }
          ],
          "histogram2dcontour": [
           {
            "colorbar": {
             "outlinewidth": 0,
             "ticks": ""
            },
            "colorscale": [
             [
              0,
              "#0d0887"
             ],
             [
              0.1111111111111111,
              "#46039f"
             ],
             [
              0.2222222222222222,
              "#7201a8"
             ],
             [
              0.3333333333333333,
              "#9c179e"
             ],
             [
              0.4444444444444444,
              "#bd3786"
             ],
             [
              0.5555555555555556,
              "#d8576b"
             ],
             [
              0.6666666666666666,
              "#ed7953"
             ],
             [
              0.7777777777777778,
              "#fb9f3a"
             ],
             [
              0.8888888888888888,
              "#fdca26"
             ],
             [
              1,
              "#f0f921"
             ]
            ],
            "type": "histogram2dcontour"
           }
          ],
          "mesh3d": [
           {
            "colorbar": {
             "outlinewidth": 0,
             "ticks": ""
            },
            "type": "mesh3d"
           }
          ],
          "parcoords": [
           {
            "line": {
             "colorbar": {
              "outlinewidth": 0,
              "ticks": ""
             }
            },
            "type": "parcoords"
           }
          ],
          "pie": [
           {
            "automargin": true,
            "type": "pie"
           }
          ],
          "scatter": [
           {
            "fillpattern": {
             "fillmode": "overlay",
             "size": 10,
             "solidity": 0.2
            },
            "type": "scatter"
           }
          ],
          "scatter3d": [
           {
            "line": {
             "colorbar": {
              "outlinewidth": 0,
              "ticks": ""
             }
            },
            "marker": {
             "colorbar": {
              "outlinewidth": 0,
              "ticks": ""
             }
            },
            "type": "scatter3d"
           }
          ],
          "scattercarpet": [
           {
            "marker": {
             "colorbar": {
              "outlinewidth": 0,
              "ticks": ""
             }
            },
            "type": "scattercarpet"
           }
          ],
          "scattergeo": [
           {
            "marker": {
             "colorbar": {
              "outlinewidth": 0,
              "ticks": ""
             }
            },
            "type": "scattergeo"
           }
          ],
          "scattergl": [
           {
            "marker": {
             "colorbar": {
              "outlinewidth": 0,
              "ticks": ""
             }
            },
            "type": "scattergl"
           }
          ],
          "scattermap": [
           {
            "marker": {
             "colorbar": {
              "outlinewidth": 0,
              "ticks": ""
             }
            },
            "type": "scattermap"
           }
          ],
          "scattermapbox": [
           {
            "marker": {
             "colorbar": {
              "outlinewidth": 0,
              "ticks": ""
             }
            },
            "type": "scattermapbox"
           }
          ],
          "scatterpolar": [
           {
            "marker": {
             "colorbar": {
              "outlinewidth": 0,
              "ticks": ""
             }
            },
            "type": "scatterpolar"
           }
          ],
          "scatterpolargl": [
           {
            "marker": {
             "colorbar": {
              "outlinewidth": 0,
              "ticks": ""
             }
            },
            "type": "scatterpolargl"
           }
          ],
          "scatterternary": [
           {
            "marker": {
             "colorbar": {
              "outlinewidth": 0,
              "ticks": ""
             }
            },
            "type": "scatterternary"
           }
          ],
          "surface": [
           {
            "colorbar": {
             "outlinewidth": 0,
             "ticks": ""
            },
            "colorscale": [
             [
              0,
              "#0d0887"
             ],
             [
              0.1111111111111111,
              "#46039f"
             ],
             [
              0.2222222222222222,
              "#7201a8"
             ],
             [
              0.3333333333333333,
              "#9c179e"
             ],
             [
              0.4444444444444444,
              "#bd3786"
             ],
             [
              0.5555555555555556,
              "#d8576b"
             ],
             [
              0.6666666666666666,
              "#ed7953"
             ],
             [
              0.7777777777777778,
              "#fb9f3a"
             ],
             [
              0.8888888888888888,
              "#fdca26"
             ],
             [
              1,
              "#f0f921"
             ]
            ],
            "type": "surface"
           }
          ],
          "table": [
           {
            "cells": {
             "fill": {
              "color": "#EBF0F8"
             },
             "line": {
              "color": "white"
             }
            },
            "header": {
             "fill": {
              "color": "#C8D4E3"
             },
             "line": {
              "color": "white"
             }
            },
            "type": "table"
           }
          ]
         },
         "layout": {
          "annotationdefaults": {
           "arrowcolor": "#2a3f5f",
           "arrowhead": 0,
           "arrowwidth": 1
          },
          "autotypenumbers": "strict",
          "coloraxis": {
           "colorbar": {
            "outlinewidth": 0,
            "ticks": ""
           }
          },
          "colorscale": {
           "diverging": [
            [
             0,
             "#8e0152"
            ],
            [
             0.1,
             "#c51b7d"
            ],
            [
             0.2,
             "#de77ae"
            ],
            [
             0.3,
             "#f1b6da"
            ],
            [
             0.4,
             "#fde0ef"
            ],
            [
             0.5,
             "#f7f7f7"
            ],
            [
             0.6,
             "#e6f5d0"
            ],
            [
             0.7,
             "#b8e186"
            ],
            [
             0.8,
             "#7fbc41"
            ],
            [
             0.9,
             "#4d9221"
            ],
            [
             1,
             "#276419"
            ]
           ],
           "sequential": [
            [
             0,
             "#0d0887"
            ],
            [
             0.1111111111111111,
             "#46039f"
            ],
            [
             0.2222222222222222,
             "#7201a8"
            ],
            [
             0.3333333333333333,
             "#9c179e"
            ],
            [
             0.4444444444444444,
             "#bd3786"
            ],
            [
             0.5555555555555556,
             "#d8576b"
            ],
            [
             0.6666666666666666,
             "#ed7953"
            ],
            [
             0.7777777777777778,
             "#fb9f3a"
            ],
            [
             0.8888888888888888,
             "#fdca26"
            ],
            [
             1,
             "#f0f921"
            ]
           ],
           "sequentialminus": [
            [
             0,
             "#0d0887"
            ],
            [
             0.1111111111111111,
             "#46039f"
            ],
            [
             0.2222222222222222,
             "#7201a8"
            ],
            [
             0.3333333333333333,
             "#9c179e"
            ],
            [
             0.4444444444444444,
             "#bd3786"
            ],
            [
             0.5555555555555556,
             "#d8576b"
            ],
            [
             0.6666666666666666,
             "#ed7953"
            ],
            [
             0.7777777777777778,
             "#fb9f3a"
            ],
            [
             0.8888888888888888,
             "#fdca26"
            ],
            [
             1,
             "#f0f921"
            ]
           ]
          },
          "colorway": [
           "#636efa",
           "#EF553B",
           "#00cc96",
           "#ab63fa",
           "#FFA15A",
           "#19d3f3",
           "#FF6692",
           "#B6E880",
           "#FF97FF",
           "#FECB52"
          ],
          "font": {
           "color": "#2a3f5f"
          },
          "geo": {
           "bgcolor": "white",
           "lakecolor": "white",
           "landcolor": "#E5ECF6",
           "showlakes": true,
           "showland": true,
           "subunitcolor": "white"
          },
          "hoverlabel": {
           "align": "left"
          },
          "hovermode": "closest",
          "mapbox": {
           "style": "light"
          },
          "paper_bgcolor": "white",
          "plot_bgcolor": "#E5ECF6",
          "polar": {
           "angularaxis": {
            "gridcolor": "white",
            "linecolor": "white",
            "ticks": ""
           },
           "bgcolor": "#E5ECF6",
           "radialaxis": {
            "gridcolor": "white",
            "linecolor": "white",
            "ticks": ""
           }
          },
          "scene": {
           "xaxis": {
            "backgroundcolor": "#E5ECF6",
            "gridcolor": "white",
            "gridwidth": 2,
            "linecolor": "white",
            "showbackground": true,
            "ticks": "",
            "zerolinecolor": "white"
           },
           "yaxis": {
            "backgroundcolor": "#E5ECF6",
            "gridcolor": "white",
            "gridwidth": 2,
            "linecolor": "white",
            "showbackground": true,
            "ticks": "",
            "zerolinecolor": "white"
           },
           "zaxis": {
            "backgroundcolor": "#E5ECF6",
            "gridcolor": "white",
            "gridwidth": 2,
            "linecolor": "white",
            "showbackground": true,
            "ticks": "",
            "zerolinecolor": "white"
           }
          },
          "shapedefaults": {
           "line": {
            "color": "#2a3f5f"
           }
          },
          "ternary": {
           "aaxis": {
            "gridcolor": "white",
            "linecolor": "white",
            "ticks": ""
           },
           "baxis": {
            "gridcolor": "white",
            "linecolor": "white",
            "ticks": ""
           },
           "bgcolor": "#E5ECF6",
           "caxis": {
            "gridcolor": "white",
            "linecolor": "white",
            "ticks": ""
           }
          },
          "title": {
           "x": 0.05
          },
          "xaxis": {
           "automargin": true,
           "gridcolor": "white",
           "linecolor": "white",
           "ticks": "",
           "title": {
            "standoff": 15
           },
           "zerolinecolor": "white",
           "zerolinewidth": 2
          },
          "yaxis": {
           "automargin": true,
           "gridcolor": "white",
           "linecolor": "white",
           "ticks": "",
           "title": {
            "standoff": 15
           },
           "zerolinecolor": "white",
           "zerolinewidth": 2
          }
         }
        },
        "title": {
         "text": "Plot_One:Leads; Plot_Two: Sales"
        },
        "width": 1200
       }
      }
     },
     "metadata": {},
     "output_type": "display_data"
    }
   ],
   "source": [
    "modeling_utils.leads_sales_plots(data)"
   ]
  },
  {
   "cell_type": "code",
   "execution_count": 84,
   "id": "58b06ab2",
   "metadata": {},
   "outputs": [
    {
     "data": {
      "image/png": "[encoded data removed]",
      "text/plain": [
       "<Figure size 1400x400 with 3 Axes>"
      ]
     },
     "metadata": {},
     "output_type": "display_data"
    }
   ],
   "source": [
    "\n",
    "modeling_utils.unseen_data_report()"
   ]
  },
  {
   "cell_type": "markdown",
   "id": "67e23b96",
   "metadata": {},
   "source": [
    "# Contrary to modeling number of leads and sales, there is no significant relationship between Y->(the rate of leads converted to sales) and X->(demographics and cost per mille (1,000 impressions))  \n",
    "### See the below plots for details"
   ]
  },
  {
   "cell_type": "code",
   "execution_count": 92,
   "id": "c0212796",
   "metadata": {},
   "outputs": [
    {
     "data": {
      "text/html": [
       "<p style='font-size:30px;'></p>"
      ],
      "text/plain": [
       "<IPython.core.display.HTML object>"
      ]
     },
     "metadata": {},
     "output_type": "display_data"
    },
    {
     "data": {
      "image/png": "[encoded data removed]",
      "text/plain": [
       "<Figure size 1200x400 with 4 Axes>"
      ]
     },
     "metadata": {},
     "output_type": "display_data"
    }
   ],
   "source": [
    "determination=''\n",
    "modeling_utils.plot_classification(data,determination)"
   ]
  },
  {
   "cell_type": "code",
   "execution_count": 93,
   "id": "63500043",
   "metadata": {},
   "outputs": [
    {
     "data": {
      "application/vnd.plotly.v1+json": {
       "config": {
        "plotlyServerURL": "https://plot.ly"
       },
       "data": [
        {
         "dimensions": [
          {
           "label": "Actual",
           "values": [
            "Medium",
            "Medium",
            "High",
            "Medium",
            "Low",
            "Low",
            "Medium",
            "Low",
            "Medium",
            "Medium",
            "Medium",
            "Medium",
            "Low",
            "Medium",
            "Low",
            "Low",
            "Medium",
            "Low",
            "Low",
            "Medium",
            "High",
            "Medium",
            "Low",
            "Low",
            "Low",
            "Medium",
            "Medium",
            "Low",
            "Medium",
            "Medium",
            "Medium",
            "High",
            "Medium",
            "Low",
            "Low",
            "Low",
            "Medium",
            "Low",
            "Low",
            "Medium",
            "High",
            "Low",
            "Low",
            "Low",
            "Low",
            "Low",
            "Low",
            "Low",
            "Low",
            "Medium",
            "Low",
            "Low",
            "Low",
            "Medium",
            "Medium",
            "Low",
            "Low",
            "Low",
            "Medium",
            "Medium",
            "Low",
            "Medium",
            "Medium",
            "Low",
            "Medium",
            "Low",
            "Low",
            "Medium",
            "Low",
            "Low",
            "Low",
            "High",
            "Low",
            "High",
            "Low",
            "High",
            "Medium",
            "Low",
            "Low",
            "High",
            "Medium",
            "High",
            "Low",
            "Low",
            "Low",
            "Low",
            "High",
            "Low",
            "Low",
            "Low",
            "High",
            "Low",
            "Medium",
            "High",
            "Medium",
            "Medium",
            "Medium",
            "Low",
            "Low",
            "Low",
            "Low",
            "Low",
            "Low",
            "Low",
            "Low",
            "Medium",
            "Low",
            "High",
            "Medium",
            "Medium",
            "Medium",
            "Low",
            "High",
            "Medium",
            "Medium",
            "High",
            "Medium",
            "Low",
            "Low",
            "Low",
            "High",
            "Medium",
            "Low",
            "Low",
            "Low",
            "High",
            "Low",
            "High",
            "Low",
            "Low",
            "Low",
            "Low",
            "Low",
            "Low",
            "Low",
            "High",
            "Medium",
            "Low",
            "Low",
            "Low",
            "Low",
            "Low",
            "Medium",
            "Low",
            "High",
            "Low",
            "Low",
            "Low",
            "Low",
            "Medium",
            "Low",
            "Low",
            "Medium",
            "Low",
            "Low",
            "Low",
            "High",
            "Low",
            "High",
            "Medium",
            "High",
            "High",
            "Low",
            "Medium",
            "High",
            "Low",
            "Medium",
            "Medium",
            "High",
            "Low",
            "High",
            "High",
            "Medium",
            "Low",
            "Low",
            "High",
            "High",
            "High",
            "Low",
            "High",
            "Low",
            "Low",
            "Low",
            "Medium",
            "Medium",
            "Low",
            "High",
            "Low",
            "Medium",
            "Medium",
            "High",
            "High",
            "Low",
            "Low",
            "Low",
            "High",
            "Medium",
            "Low",
            "Low",
            "High",
            "High",
            "Low",
            "Low",
            "Low",
            "Low",
            "High",
            "Low",
            "Low",
            "Low",
            "Low",
            "High",
            "Low",
            "Low",
            "Low",
            "High",
            "Low",
            "Low",
            "High",
            "Low",
            "Low",
            "High",
            "Medium",
            "High",
            "High",
            "Medium",
            "Medium",
            "Low",
            "Low",
            "High",
            "Medium",
            "High",
            "Low",
            "Medium",
            "Medium",
            "Low",
            "High",
            "Low",
            "High",
            "Low",
            "Low",
            "Low",
            "Medium",
            "Low",
            "Low",
            "Medium",
            "High",
            "Low",
            "Medium",
            "Low",
            "Low",
            "Medium",
            "Low",
            "High",
            "Low",
            "Low",
            "High",
            "Low",
            "Medium",
            "Low",
            "Low",
            "Low",
            "High",
            "Medium",
            "Low",
            "Low",
            "Low",
            "Low",
            "Low",
            "Low",
            "Low",
            "Low",
            "High",
            "High",
            "Medium",
            "Low",
            "Low",
            "Medium",
            "Low",
            "Low",
            "Low",
            "Low",
            "Medium",
            "Low",
            "Low",
            "Medium",
            "Medium",
            "Low",
            "Medium",
            "Medium",
            "Medium",
            "Low",
            "High",
            "Medium",
            "Low",
            "Low",
            "Low",
            "Medium",
            "Low",
            "High",
            "High",
            "Low",
            "Low",
            "High",
            "High",
            "Low",
            "Low",
            "Medium",
            "Low",
            "Medium",
            "Low",
            "Low",
            "Medium",
            "Low",
            "Medium",
            "Medium",
            "Low",
            "Medium",
            "Low",
            "Medium",
            "High",
            "Low",
            "Low",
            "Low",
            "Medium",
            "Low",
            "Low",
            "Low",
            "Medium",
            "Low",
            "Low",
            "Medium",
            "High",
            "Low",
            "Low",
            "Low",
            "High",
            "Low",
            "Low",
            "Low",
            "Low",
            "Medium",
            "Low",
            "Low",
            "Low",
            "Low",
            "Low",
            "Low",
            "Medium",
            "Low",
            "Medium",
            "Low",
            "Low",
            "Medium",
            "Medium",
            "Low",
            "Low",
            "High",
            "High",
            "Medium",
            "Low",
            "High",
            "High",
            "Low",
            "Low",
            "Low",
            "Low",
            "Low",
            "Medium",
            "Medium",
            "Medium",
            "Low",
            "Low",
            "Low",
            "High",
            "High",
            "High",
            "Low",
            "Medium",
            "Low",
            "Low",
            "Low",
            "Low",
            "Medium",
            "Low",
            "Low",
            "Low",
            "Low",
            "Medium",
            "High",
            "Medium",
            "Low",
            "Medium",
            "High",
            "Low",
            "Low",
            "High",
            "Low",
            "Low",
            "Medium",
            "Low",
            "Low",
            "Low",
            "Low",
            "Low",
            "Low",
            "Low",
            "Low",
            "Low",
            "Low",
            "High",
            "High",
            "Low",
            "Medium",
            "Low",
            "High",
            "Medium",
            "High",
            "Low",
            "Low",
            "Medium",
            "Low",
            "Medium",
            "Low",
            "Medium",
            "Low",
            "Medium",
            "Low",
            "Low",
            "Low",
            "Low",
            "Medium",
            "Medium",
            "Low",
            "Low",
            "Medium",
            "Low",
            "Low",
            "Medium",
            "High",
            "Low",
            "Low",
            "Low",
            "Low",
            "Low",
            "High",
            "Low",
            "Low",
            "Low",
            "Medium",
            "Medium",
            "Medium",
            "Low",
            "Low",
            "Medium",
            "Low",
            "Medium",
            "High",
            "Low",
            "High",
            "Low",
            "Low",
            "Low",
            "Low",
            "Low",
            "Low",
            "Medium",
            "High",
            "Low",
            "High",
            "Low",
            "High",
            "High",
            "Low",
            "Low",
            "Medium",
            "Low",
            "Low",
            "Low",
            "Low",
            "Low",
            "Low",
            "Low",
            "Low",
            "Low",
            "Low",
            "Low",
            "Medium",
            "Low",
            "High",
            "High",
            "Low",
            "Medium",
            "High",
            "High",
            "Low",
            "Medium",
            "Low",
            "High",
            "High",
            "High",
            "Low",
            "Low",
            "Low",
            "Low",
            "Low",
            "Low",
            "Low",
            "Low",
            "Low",
            "Medium",
            "Low",
            "Low",
            "Low",
            "Low",
            "Medium",
            "Medium",
            "Low",
            "Medium",
            "Low",
            "Low",
            "Low",
            "High",
            "Low",
            "Low",
            "Low",
            "Medium",
            "Low",
            "Low",
            "Low",
            "Low",
            "Low",
            "High",
            "Medium",
            "Low",
            "Low",
            "Low",
            "Low",
            "Low",
            "Low",
            "Low",
            "High",
            "Low",
            "High",
            "Low",
            "Low",
            "Medium",
            "Low",
            "Low",
            "Low",
            "Medium",
            "Low",
            "Low",
            "Low",
            "High",
            "Low",
            "Low",
            "Low",
            "Low",
            "High",
            "High",
            "Low",
            "High",
            "Low",
            "Medium",
            "Low",
            "High",
            "Medium",
            "Low",
            "Medium",
            "Medium",
            "Low",
            "Low",
            "Low",
            "Medium",
            "High",
            "Low",
            "Low",
            "Low",
            "Medium",
            "Low",
            "Low",
            "Low",
            "Low",
            "Medium",
            "Low",
            "Low",
            "Low",
            "Low",
            "Low",
            "Medium",
            "Low",
            "Low",
            "Low",
            "Low",
            "Low",
            "Low",
            "High",
            "Medium",
            "Low",
            "Low",
            "Low",
            "Low",
            "Low",
            "Low",
            "Medium",
            "Low",
            "High",
            "Low",
            "Low",
            "Low",
            "Low",
            "Low",
            "Medium",
            "High",
            "Low",
            "Medium",
            "Medium",
            "Low",
            "Low",
            "Low",
            "Low",
            "Low",
            "Low",
            "Low",
            "Medium"
           ]
          },
          {
           "label": "Predicted",
           "values": [
            "Medium",
            "Medium",
            "Medium",
            "Medium",
            "Medium",
            "Medium",
            "Medium",
            "Medium",
            "Medium",
            "Medium",
            "Medium",
            "Medium",
            "Medium",
            "Medium",
            "Medium",
            "Medium",
            "Medium",
            "Medium",
            "Medium",
            "Medium",
            "Medium",
            "Medium",
            "Medium",
            "Medium",
            "Medium",
            "Medium",
            "Medium",
            "Medium",
            "Medium",
            "Medium",
            "Medium",
            "Medium",
            "Medium",
            "Medium",
            "Medium",
            "Medium",
            "Medium",
            "Medium",
            "Medium",
            "Medium",
            "Medium",
            "Medium",
            "Medium",
            "Medium",
            "Medium",
            "Medium",
            "Medium",
            "Medium",
            "Medium",
            "Medium",
            "Medium",
            "Medium",
            "Medium",
            "Medium",
            "Medium",
            "Medium",
            "Medium",
            "Medium",
            "Medium",
            "Medium",
            "Medium",
            "Medium",
            "Medium",
            "Medium",
            "Medium",
            "Medium",
            "Medium",
            "Medium",
            "Medium",
            "Medium",
            "Medium",
            "Medium",
            "Medium",
            "Medium",
            "Medium",
            "Medium",
            "Medium",
            "Medium",
            "Medium",
            "Medium",
            "Medium",
            "Medium",
            "Medium",
            "Medium",
            "Medium",
            "Medium",
            "Medium",
            "Medium",
            "Medium",
            "Medium",
            "Medium",
            "Medium",
            "Medium",
            "Medium",
            "Medium",
            "Medium",
            "Medium",
            "Medium",
            "Medium",
            "Medium",
            "Medium",
            "Medium",
            "Medium",
            "Medium",
            "Medium",
            "Medium",
            "Medium",
            "Medium",
            "Medium",
            "Medium",
            "Medium",
            "Medium",
            "Medium",
            "Medium",
            "Medium",
            "Medium",
            "Medium",
            "Medium",
            "Medium",
            "Medium",
            "Medium",
            "Medium",
            "Medium",
            "Medium",
            "Medium",
            "Medium",
            "Medium",
            "Medium",
            "Medium",
            "Medium",
            "Medium",
            "Medium",
            "Medium",
            "Medium",
            "Medium",
            "Medium",
            "Medium",
            "Medium",
            "Medium",
            "Medium",
            "Medium",
            "Medium",
            "Medium",
            "Medium",
            "Medium",
            "Medium",
            "Medium",
            "Medium",
            "Medium",
            "Medium",
            "Medium",
            "Medium",
            "Medium",
            "Medium",
            "Medium",
            "Medium",
            "Medium",
            "Medium",
            "Medium",
            "Medium",
            "Medium",
            "Medium",
            "Medium",
            "Medium",
            "Medium",
            "Medium",
            "Medium",
            "Medium",
            "Medium",
            "Medium",
            "Medium",
            "Medium",
            "Medium",
            "Medium",
            "Medium",
            "Medium",
            "Medium",
            "Medium",
            "Medium",
            "Medium",
            "Medium",
            "Medium",
            "Medium",
            "Medium",
            "Medium",
            "Medium",
            "Medium",
            "Medium",
            "Medium",
            "Medium",
            "Medium",
            "Medium",
            "Medium",
            "Medium",
            "Medium",
            "Medium",
            "Medium",
            "Medium",
            "Medium",
            "Medium",
            "Medium",
            "Medium",
            "Medium",
            "Medium",
            "Medium",
            "Medium",
            "Medium",
            "Medium",
            "Medium",
            "Medium",
            "Medium",
            "Medium",
            "Medium",
            "Medium",
            "Medium",
            "Medium",
            "Medium",
            "Medium",
            "Medium",
            "Medium",
            "Medium",
            "Medium",
            "Medium",
            "Medium",
            "Medium",
            "Medium",
            "Medium",
            "Medium",
            "Medium",
            "Medium",
            "Medium",
            "Medium",
            "Medium",
            "Medium",
            "Medium",
            "Medium",
            "Medium",
            "Medium",
            "Medium",
            "Medium",
            "Medium",
            "Medium",
            "Medium",
            "Medium",
            "Medium",
            "Medium",
            "Medium",
            "Medium",
            "Medium",
            "Medium",
            "Medium",
            "Medium",
            "Medium",
            "Medium",
            "Medium",
            "Medium",
            "Medium",
            "Medium",
            "Medium",
            "Medium",
            "Medium",
            "Medium",
            "Medium",
            "Medium",
            "Medium",
            "Medium",
            "Medium",
            "Medium",
            "Medium",
            "Medium",
            "Medium",
            "Medium",
            "Medium",
            "Medium",
            "Medium",
            "Medium",
            "Medium",
            "Medium",
            "Medium",
            "Medium",
            "Medium",
            "Medium",
            "Medium",
            "Medium",
            "Medium",
            "Medium",
            "Medium",
            "Medium",
            "Medium",
            "Medium",
            "Medium",
            "Medium",
            "Medium",
            "Medium",
            "Medium",
            "Medium",
            "Medium",
            "Medium",
            "Medium",
            "Medium",
            "Medium",
            "Medium",
            "Medium",
            "Medium",
            "Medium",
            "Medium",
            "Medium",
            "Medium",
            "Medium",
            "Medium",
            "Medium",
            "Medium",
            "Medium",
            "Medium",
            "Medium",
            "Medium",
            "Medium",
            "Medium",
            "Medium",
            "Medium",
            "Medium",
            "Medium",
            "Medium",
            "Medium",
            "Medium",
            "Medium",
            "Medium",
            "Medium",
            "Medium",
            "Medium",
            "Medium",
            "Medium",
            "Medium",
            "Medium",
            "Medium",
            "Medium",
            "Medium",
            "Medium",
            "Medium",
            "Medium",
            "Medium",
            "Medium",
            "Medium",
            "Medium",
            "Medium",
            "Medium",
            "Medium",
            "Medium",
            "Medium",
            "Medium",
            "Medium",
            "Medium",
            "Medium",
            "Medium",
            "Medium",
            "Medium",
            "Medium",
            "Medium",
            "Medium",
            "Medium",
            "Medium",
            "Medium",
            "Medium",
            "Medium",
            "Medium",
            "Medium",
            "Medium",
            "Medium",
            "Medium",
            "Medium",
            "Medium",
            "Medium",
            "Medium",
            "Medium",
            "Medium",
            "Medium",
            "Medium",
            "Medium",
            "Medium",
            "Medium",
            "Medium",
            "Medium",
            "Medium",
            "Medium",
            "Medium",
            "Medium",
            "Medium",
            "Medium",
            "Medium",
            "Medium",
            "Medium",
            "Medium",
            "Medium",
            "Medium",
            "Medium",
            "Medium",
            "Medium",
            "Medium",
            "Medium",
            "Medium",
            "Medium",
            "Medium",
            "Medium",
            "Medium",
            "Medium",
            "Medium",
            "Medium",
            "Medium",
            "Medium",
            "Medium",
            "Medium",
            "Medium",
            "Medium",
            "Medium",
            "Medium",
            "Medium",
            "Medium",
            "Medium",
            "Medium",
            "Medium",
            "Medium",
            "Medium",
            "Medium",
            "Medium",
            "Medium",
            "Medium",
            "Medium",
            "Medium",
            "Medium",
            "Medium",
            "Medium",
            "Medium",
            "Medium",
            "Medium",
            "Medium",
            "Medium",
            "Medium",
            "Medium",
            "Medium",
            "Medium",
            "Medium",
            "Medium",
            "Medium",
            "Medium",
            "Medium",
            "Medium",
            "Medium",
            "Medium",
            "Medium",
            "Medium",
            "Medium",
            "Medium",
            "Medium",
            "Medium",
            "Medium",
            "Medium",
            "Medium",
            "Medium",
            "Medium",
            "Medium",
            "Medium",
            "Medium",
            "Medium",
            "Medium",
            "Medium",
            "Medium",
            "Medium",
            "Medium",
            "Medium",
            "Medium",
            "Medium",
            "Medium",
            "Medium",
            "Medium",
            "Medium",
            "Medium",
            "Medium",
            "Medium",
            "Medium",
            "Medium",
            "Medium",
            "Medium",
            "Medium",
            "Medium",
            "Medium",
            "Medium",
            "Medium",
            "Medium",
            "Medium",
            "Medium",
            "Medium",
            "Medium",
            "Medium",
            "Medium",
            "Medium",
            "Medium",
            "Medium",
            "Medium",
            "Medium",
            "Medium",
            "Medium",
            "Medium",
            "Medium",
            "Medium",
            "Medium",
            "Medium",
            "Medium",
            "Medium",
            "Medium",
            "Medium",
            "Medium",
            "Medium",
            "Medium",
            "Medium",
            "Medium",
            "Medium",
            "Medium",
            "Medium",
            "Medium",
            "Medium",
            "Medium",
            "Medium",
            "Medium",
            "Medium",
            "Medium",
            "Medium",
            "Medium",
            "Medium",
            "Medium",
            "Medium",
            "Low",
            "Low",
            "Low",
            "Low",
            "Low",
            "Low",
            "Low",
            "Low",
            "Low",
            "Low",
            "Low",
            "Low",
            "Low",
            "Low",
            "Low",
            "Low",
            "Low",
            "Low",
            "Low",
            "Low",
            "Low",
            "Low",
            "Low",
            "Low",
            "Low",
            "Low",
            "Low",
            "Low",
            "Low",
            "Low",
            "Low",
            "Low",
            "Low",
            "Low",
            "Low",
            "Low",
            "Low",
            "Low",
            "Low",
            "Low",
            "Low",
            "Low",
            "Low",
            "Low",
            "Low",
            "Low",
            "Low",
            "Low",
            "Low",
            "Low",
            "Low",
            "Low",
            "Low",
            "Low",
            "Low",
            "Low",
            "Low",
            "Low",
            "Low",
            "Low",
            "Low",
            "Low",
            "Low",
            "Low",
            "Low",
            "Low",
            "Low",
            "Low",
            "Low",
            "Low",
            "Low",
            "Low",
            "Low",
            "Low",
            "Low",
            "Low",
            "Low",
            "Low",
            "Low",
            "Low",
            "Low",
            "Low",
            "Low",
            "Low",
            "Low",
            "Low",
            "Low",
            "Low",
            "Low",
            "Low",
            "Low",
            "Low",
            "Low",
            "Low",
            "Low"
           ]
          }
         ],
         "domain": {
          "x": [
           0,
           1
          ],
          "y": [
           0,
           1
          ]
         },
         "line": {
          "color": {
           "bdata": "AgIAAgEBAgECAgICAQIBAQIBAQIAAgEBAQICAQICAgACAQEBAgEBAgABAQEBAQEBAQIBAQECAgEBAQICAQICAQIBAQIBAQEAAQABAAIBAQACAAEBAQEAAQEBAAECAAICAgEBAQEBAQEBAgEAAgICAQACAgACAQEBAAIBAQEAAQABAQEBAQEBAAIBAQEBAQIBAAEBAQECAQECAQEBAAEAAgAAAQIAAQICAAEAAAIBAQAAAAEAAQEBAgIBAAECAgAAAQEBAAIBAQAAAQEBAQABAQEBAAEBAQABAQABAQACAAACAgEBAAIAAQICAQABAAEBAQIBAQIAAQIBAQIBAAEBAAECAQEBAAIBAQEBAQEBAQAAAgEBAgEBAQECAQECAgECAgIBAAIBAQECAQAAAQEAAAEBAgECAQECAQICAQIBAgABAQECAQEBAgEBAgABAQEAAQEBAQIBAQEBAQECAQIBAQICAQEAAAIBAAABAQEBAQICAgEBAQAAAAECAQEBAQIBAQEBAgACAQIAAQEAAQECAQEBAQEBAQEBAQAAAQIBAAIAAQECAQIBAgECAQEBAQICAQECAQECAAEBAQEBAAEBAQICAgEBAgECAAEAAQEBAQEBAgABAAEAAAEBAgEBAQEBAQEBAQEBAgEAAAECAAABAgEAAAABAQEBAQEBAQECAQEBAQICAQIBAQEAAQEBAgEBAQEBAAIBAQEBAQEBAAEAAQECAQEBAgEBAQABAQEBAAABAAECAQACAQICAQEBAgABAQECAQEBAQIBAQEBAQIBAQEBAQEAAgEBAQEBAQIBAAEBAQEBAgABAgIBAQEBAQEBAg==",
           "dtype": "i1"
          },
          "coloraxis": "coloraxis"
         },
         "name": "",
         "type": "parcats"
        }
       ],
       "layout": {
        "coloraxis": {
         "colorbar": {
          "title": {
           "text": "color"
          }
         },
         "colorscale": [
          [
           0,
           "rgb(255,245,240)"
          ],
          [
           0.125,
           "rgb(254,224,210)"
          ],
          [
           0.25,
           "rgb(252,187,161)"
          ],
          [
           0.375,
           "rgb(252,146,114)"
          ],
          [
           0.5,
           "rgb(251,106,74)"
          ],
          [
           0.625,
           "rgb(239,59,44)"
          ],
          [
           0.75,
           "rgb(203,24,29)"
          ],
          [
           0.875,
           "rgb(165,15,21)"
          ],
          [
           1,
           "rgb(103,0,13)"
          ]
         ]
        },
        "legend": {
         "tracegroupgap": 0
        },
        "margin": {
         "t": 60
        },
        "template": {
         "data": {
          "bar": [
           {
            "error_x": {
             "color": "#2a3f5f"
            },
            "error_y": {
             "color": "#2a3f5f"
            },
            "marker": {
             "line": {
              "color": "#E5ECF6",
              "width": 0.5
             },
             "pattern": {
              "fillmode": "overlay",
              "size": 10,
              "solidity": 0.2
             }
            },
            "type": "bar"
           }
          ],
          "barpolar": [
           {
            "marker": {
             "line": {
              "color": "#E5ECF6",
              "width": 0.5
             },
             "pattern": {
              "fillmode": "overlay",
              "size": 10,
              "solidity": 0.2
             }
            },
            "type": "barpolar"
           }
          ],
          "carpet": [
           {
            "aaxis": {
             "endlinecolor": "#2a3f5f",
             "gridcolor": "white",
             "linecolor": "white",
             "minorgridcolor": "white",
             "startlinecolor": "#2a3f5f"
            },
            "baxis": {
             "endlinecolor": "#2a3f5f",
             "gridcolor": "white",
             "linecolor": "white",
             "minorgridcolor": "white",
             "startlinecolor": "#2a3f5f"
            },
            "type": "carpet"
           }
          ],
          "choropleth": [
           {
            "colorbar": {
             "outlinewidth": 0,
             "ticks": ""
            },
            "type": "choropleth"
           }
          ],
          "contour": [
           {
            "colorbar": {
             "outlinewidth": 0,
             "ticks": ""
            },
            "colorscale": [
             [
              0,
              "#0d0887"
             ],
             [
              0.1111111111111111,
              "#46039f"
             ],
             [
              0.2222222222222222,
              "#7201a8"
             ],
             [
              0.3333333333333333,
              "#9c179e"
             ],
             [
              0.4444444444444444,
              "#bd3786"
             ],
             [
              0.5555555555555556,
              "#d8576b"
             ],
             [
              0.6666666666666666,
              "#ed7953"
             ],
             [
              0.7777777777777778,
              "#fb9f3a"
             ],
             [
              0.8888888888888888,
              "#fdca26"
             ],
             [
              1,
              "#f0f921"
             ]
            ],
            "type": "contour"
           }
          ],
          "contourcarpet": [
           {
            "colorbar": {
             "outlinewidth": 0,
             "ticks": ""
            },
            "type": "contourcarpet"
           }
          ],
          "heatmap": [
           {
            "colorbar": {
             "outlinewidth": 0,
             "ticks": ""
            },
            "colorscale": [
             [
              0,
              "#0d0887"
             ],
             [
              0.1111111111111111,
              "#46039f"
             ],
             [
              0.2222222222222222,
              "#7201a8"
             ],
             [
              0.3333333333333333,
              "#9c179e"
             ],
             [
              0.4444444444444444,
              "#bd3786"
             ],
             [
              0.5555555555555556,
              "#d8576b"
             ],
             [
              0.6666666666666666,
              "#ed7953"
             ],
             [
              0.7777777777777778,
              "#fb9f3a"
             ],
             [
              0.8888888888888888,
              "#fdca26"
             ],
             [
              1,
              "#f0f921"
             ]
            ],
            "type": "heatmap"
           }
          ],
          "histogram": [
           {
            "marker": {
             "pattern": {
              "fillmode": "overlay",
              "size": 10,
              "solidity": 0.2
             }
            },
            "type": "histogram"
           }
          ],
          "histogram2d": [
           {
            "colorbar": {
             "outlinewidth": 0,
             "ticks": ""
            },
            "colorscale": [
             [
              0,
              "#0d0887"
             ],
             [
              0.1111111111111111,
              "#46039f"
             ],
             [
              0.2222222222222222,
              "#7201a8"
             ],
             [
              0.3333333333333333,
              "#9c179e"
             ],
             [
              0.4444444444444444,
              "#bd3786"
             ],
             [
              0.5555555555555556,
              "#d8576b"
             ],
             [
              0.6666666666666666,
              "#ed7953"
             ],
             [
              0.7777777777777778,
              "#fb9f3a"
             ],
             [
              0.8888888888888888,
              "#fdca26"
             ],
             [
              1,
              "#f0f921"
             ]
            ],
            "type": "histogram2d"
           }
          ],
          "histogram2dcontour": [
           {
            "colorbar": {
             "outlinewidth": 0,
             "ticks": ""
            },
            "colorscale": [
             [
              0,
              "#0d0887"
             ],
             [
              0.1111111111111111,
              "#46039f"
             ],
             [
              0.2222222222222222,
              "#7201a8"
             ],
             [
              0.3333333333333333,
              "#9c179e"
             ],
             [
              0.4444444444444444,
              "#bd3786"
             ],
             [
              0.5555555555555556,
              "#d8576b"
             ],
             [
              0.6666666666666666,
              "#ed7953"
             ],
             [
              0.7777777777777778,
              "#fb9f3a"
             ],
             [
              0.8888888888888888,
              "#fdca26"
             ],
             [
              1,
              "#f0f921"
             ]
            ],
            "type": "histogram2dcontour"
           }
          ],
          "mesh3d": [
           {
            "colorbar": {
             "outlinewidth": 0,
             "ticks": ""
            },
            "type": "mesh3d"
           }
          ],
          "parcoords": [
           {
            "line": {
             "colorbar": {
              "outlinewidth": 0,
              "ticks": ""
             }
            },
            "type": "parcoords"
           }
          ],
          "pie": [
           {
            "automargin": true,
            "type": "pie"
           }
          ],
          "scatter": [
           {
            "fillpattern": {
             "fillmode": "overlay",
             "size": 10,
             "solidity": 0.2
            },
            "type": "scatter"
           }
          ],
          "scatter3d": [
           {
            "line": {
             "colorbar": {
              "outlinewidth": 0,
              "ticks": ""
             }
            },
            "marker": {
             "colorbar": {
              "outlinewidth": 0,
              "ticks": ""
             }
            },
            "type": "scatter3d"
           }
          ],
          "scattercarpet": [
           {
            "marker": {
             "colorbar": {
              "outlinewidth": 0,
              "ticks": ""
             }
            },
            "type": "scattercarpet"
           }
          ],
          "scattergeo": [
           {
            "marker": {
             "colorbar": {
              "outlinewidth": 0,
              "ticks": ""
             }
            },
            "type": "scattergeo"
           }
          ],
          "scattergl": [
           {
            "marker": {
             "colorbar": {
              "outlinewidth": 0,
              "ticks": ""
             }
            },
            "type": "scattergl"
           }
          ],
          "scattermap": [
           {
            "marker": {
             "colorbar": {
              "outlinewidth": 0,
              "ticks": ""
             }
            },
            "type": "scattermap"
           }
          ],
          "scattermapbox": [
           {
            "marker": {
             "colorbar": {
              "outlinewidth": 0,
              "ticks": ""
             }
            },
            "type": "scattermapbox"
           }
          ],
          "scatterpolar": [
           {
            "marker": {
             "colorbar": {
              "outlinewidth": 0,
              "ticks": ""
             }
            },
            "type": "scatterpolar"
           }
          ],
          "scatterpolargl": [
           {
            "marker": {
             "colorbar": {
              "outlinewidth": 0,
              "ticks": ""
             }
            },
            "type": "scatterpolargl"
           }
          ],
          "scatterternary": [
           {
            "marker": {
             "colorbar": {
              "outlinewidth": 0,
              "ticks": ""
             }
            },
            "type": "scatterternary"
           }
          ],
          "surface": [
           {
            "colorbar": {
             "outlinewidth": 0,
             "ticks": ""
            },
            "colorscale": [
             [
              0,
              "#0d0887"
             ],
             [
              0.1111111111111111,
              "#46039f"
             ],
             [
              0.2222222222222222,
              "#7201a8"
             ],
             [
              0.3333333333333333,
              "#9c179e"
             ],
             [
              0.4444444444444444,
              "#bd3786"
             ],
             [
              0.5555555555555556,
              "#d8576b"
             ],
             [
              0.6666666666666666,
              "#ed7953"
             ],
             [
              0.7777777777777778,
              "#fb9f3a"
             ],
             [
              0.8888888888888888,
              "#fdca26"
             ],
             [
              1,
              "#f0f921"
             ]
            ],
            "type": "surface"
           }
          ],
          "table": [
           {
            "cells": {
             "fill": {
              "color": "#EBF0F8"
             },
             "line": {
              "color": "white"
             }
            },
            "header": {
             "fill": {
              "color": "#C8D4E3"
             },
             "line": {
              "color": "white"
             }
            },
            "type": "table"
           }
          ]
         },
         "layout": {
          "annotationdefaults": {
           "arrowcolor": "#2a3f5f",
           "arrowhead": 0,
           "arrowwidth": 1
          },
          "autotypenumbers": "strict",
          "coloraxis": {
           "colorbar": {
            "outlinewidth": 0,
            "ticks": ""
           }
          },
          "colorscale": {
           "diverging": [
            [
             0,
             "#8e0152"
            ],
            [
             0.1,
             "#c51b7d"
            ],
            [
             0.2,
             "#de77ae"
            ],
            [
             0.3,
             "#f1b6da"
            ],
            [
             0.4,
             "#fde0ef"
            ],
            [
             0.5,
             "#f7f7f7"
            ],
            [
             0.6,
             "#e6f5d0"
            ],
            [
             0.7,
             "#b8e186"
            ],
            [
             0.8,
             "#7fbc41"
            ],
            [
             0.9,
             "#4d9221"
            ],
            [
             1,
             "#276419"
            ]
           ],
           "sequential": [
            [
             0,
             "#0d0887"
            ],
            [
             0.1111111111111111,
             "#46039f"
            ],
            [
             0.2222222222222222,
             "#7201a8"
            ],
            [
             0.3333333333333333,
             "#9c179e"
            ],
            [
             0.4444444444444444,
             "#bd3786"
            ],
            [
             0.5555555555555556,
             "#d8576b"
            ],
            [
             0.6666666666666666,
             "#ed7953"
            ],
            [
             0.7777777777777778,
             "#fb9f3a"
            ],
            [
             0.8888888888888888,
             "#fdca26"
            ],
            [
             1,
             "#f0f921"
            ]
           ],
           "sequentialminus": [
            [
             0,
             "#0d0887"
            ],
            [
             0.1111111111111111,
             "#46039f"
            ],
            [
             0.2222222222222222,
             "#7201a8"
            ],
            [
             0.3333333333333333,
             "#9c179e"
            ],
            [
             0.4444444444444444,
             "#bd3786"
            ],
            [
             0.5555555555555556,
             "#d8576b"
            ],
            [
             0.6666666666666666,
             "#ed7953"
            ],
            [
             0.7777777777777778,
             "#fb9f3a"
            ],
            [
             0.8888888888888888,
             "#fdca26"
            ],
            [
             1,
             "#f0f921"
            ]
           ]
          },
          "colorway": [
           "#636efa",
           "#EF553B",
           "#00cc96",
           "#ab63fa",
           "#FFA15A",
           "#19d3f3",
           "#FF6692",
           "#B6E880",
           "#FF97FF",
           "#FECB52"
          ],
          "font": {
           "color": "#2a3f5f"
          },
          "geo": {
           "bgcolor": "white",
           "lakecolor": "white",
           "landcolor": "#E5ECF6",
           "showlakes": true,
           "showland": true,
           "subunitcolor": "white"
          },
          "hoverlabel": {
           "align": "left"
          },
          "hovermode": "closest",
          "mapbox": {
           "style": "light"
          },
          "paper_bgcolor": "white",
          "plot_bgcolor": "#E5ECF6",
          "polar": {
           "angularaxis": {
            "gridcolor": "white",
            "linecolor": "white",
            "ticks": ""
           },
           "bgcolor": "#E5ECF6",
           "radialaxis": {
            "gridcolor": "white",
            "linecolor": "white",
            "ticks": ""
           }
          },
          "scene": {
           "xaxis": {
            "backgroundcolor": "#E5ECF6",
            "gridcolor": "white",
            "gridwidth": 2,
            "linecolor": "white",
            "showbackground": true,
            "ticks": "",
            "zerolinecolor": "white"
           },
           "yaxis": {
            "backgroundcolor": "#E5ECF6",
            "gridcolor": "white",
            "gridwidth": 2,
            "linecolor": "white",
            "showbackground": true,
            "ticks": "",
            "zerolinecolor": "white"
           },
           "zaxis": {
            "backgroundcolor": "#E5ECF6",
            "gridcolor": "white",
            "gridwidth": 2,
            "linecolor": "white",
            "showbackground": true,
            "ticks": "",
            "zerolinecolor": "white"
           }
          },
          "shapedefaults": {
           "line": {
            "color": "#2a3f5f"
           }
          },
          "ternary": {
           "aaxis": {
            "gridcolor": "white",
            "linecolor": "white",
            "ticks": ""
           },
           "baxis": {
            "gridcolor": "white",
            "linecolor": "white",
            "ticks": ""
           },
           "bgcolor": "#E5ECF6",
           "caxis": {
            "gridcolor": "white",
            "linecolor": "white",
            "ticks": ""
           }
          },
          "title": {
           "x": 0.05
          },
          "xaxis": {
           "automargin": true,
           "gridcolor": "white",
           "linecolor": "white",
           "ticks": "",
           "title": {
            "standoff": 15
           },
           "zerolinecolor": "white",
           "zerolinewidth": 2
          },
          "yaxis": {
           "automargin": true,
           "gridcolor": "white",
           "linecolor": "white",
           "ticks": "",
           "title": {
            "standoff": 15
           },
           "zerolinecolor": "white",
           "zerolinewidth": 2
          }
         }
        },
        "title": {
         "text": "Actual vs Predicted Categories"
        }
       }
      }
     },
     "metadata": {},
     "output_type": "display_data"
    }
   ],
   "source": [
    "\n",
    "modeling_utils.parallel_plot(data)"
   ]
  }
 ],
 "metadata": {
  "kernelspec": {
   "display_name": "Python 3",
   "language": "python",
   "name": "python3"
  },
  "language_info": {
   "codemirror_mode": {
    "name": "ipython",
    "version": 3
   },
   "file_extension": ".py",
   "mimetype": "text/x-python",
   "name": "python",
   "nbconvert_exporter": "python",
   "pygments_lexer": "ipython3",
   "version": "3.12.2"
  }
 },
 "nbformat": 4,
 "nbformat_minor": 5
}
