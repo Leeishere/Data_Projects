{
 "cells": [
  {
   "cell_type": "code",
   "execution_count": 16,
   "metadata": {},
   "outputs": [],
   "source": [
    "# importing all necessary libraries\n",
    "import numpy as np\n",
    "import pandas as pd\n",
    "\n",
    "import seaborn as sns\n",
    "import matplotlib.pyplot as plt\n",
    "\n",
    "import warnings\n",
    "warnings.filterwarnings('ignore')\n",
    "\n",
    "#interactivity\n",
    "import ipywidgets as widgets\n",
    "from ipywidgets import interact\n",
    "from ipywidgets import interact_manual"
   ]
  },
  {
   "cell_type": "code",
   "execution_count": 17,
   "metadata": {},
   "outputs": [
    {
     "data": {
      "text/plain": [
       "(18207, 89)"
      ]
     },
     "execution_count": 17,
     "metadata": {},
     "output_type": "execute_result"
    }
   ],
   "source": [
    "# reading the dataset\n",
    "data = pd.read_csv('data-1.csv')\n",
    "data.shape"
   ]
  },
  {
   "cell_type": "code",
   "execution_count": 18,
   "metadata": {},
   "outputs": [
    {
     "data": {
      "application/vnd.jupyter.widget-view+json": {
       "model_id": "ad04cc8297ea427c9ab92311d8692789",
       "version_major": 2,
       "version_minor": 0
      },
      "text/plain": [
       "interactive(children=(IntSlider(value=188, description='left_index', max=564, min=-188), IntSlider(value=5, de…"
      ]
     },
     "metadata": {},
     "output_type": "display_data"
    }
   ],
   "source": [
    "@interact\n",
    "def view_head(left_index=188,num_rows=5):\n",
    "    window=left_index+10\n",
    "    right_index=min(left_index+window,len(data)-1)\n",
    "    return data.iloc[:,left_index:right_index].head(num_rows)"
   ]
  },
  {
   "cell_type": "code",
   "execution_count": 19,
   "metadata": {},
   "outputs": [],
   "source": [
    "def get_int(val):\n",
    "    val=str(val)\n",
    "    multiplier=1\n",
    "    if val[-1]=='M': multiplier=1000000\n",
    "    if val[-1]=='K': multiplier=1000\n",
    "    stripped=[str(i) for i in val if i!='€' and i!='K' and i!='M']\n",
    "    return float(''.join(stripped))*multiplier\n",
    "\n",
    "money_columns=['Release Clause', 'Wage', 'Value']\n",
    "for i in money_columns:\n",
    "    data[i]=data[i].apply(lambda x: get_int(x))"
   ]
  },
  {
   "cell_type": "code",
   "execution_count": 20,
   "metadata": {},
   "outputs": [],
   "source": [
    "obj=[i for i in data.iloc[:,13:].describe(include='object')]\n",
    "for i in obj:\n",
    "    data[i].fillna(data[i].mode()[0],inplace=True)"
   ]
  },
  {
   "cell_type": "code",
   "execution_count": 21,
   "metadata": {},
   "outputs": [],
   "source": [
    "num=[i for i in data.iloc[:,12:].describe()]\n",
    "for i in num:\n",
    "    data[i].fillna(data[i].median()//1, inplace=True)"
   ]
  },
  {
   "cell_type": "code",
   "execution_count": 22,
   "metadata": {},
   "outputs": [],
   "source": [
    "data.fillna(0,inplace=True)"
   ]
  },
  {
   "cell_type": "code",
   "execution_count": 23,
   "metadata": {},
   "outputs": [
    {
     "data": {
      "text/plain": [
       "0"
      ]
     },
     "execution_count": 23,
     "metadata": {},
     "output_type": "execute_result"
    }
   ],
   "source": [
    "data.isna().sum().sum()"
   ]
  },
  {
   "cell_type": "code",
   "execution_count": 24,
   "metadata": {},
   "outputs": [
    {
     "name": "stdout",
     "output_type": "stream",
     "text": [
      "<class 'pandas.core.frame.DataFrame'>\n",
      "RangeIndex: 18207 entries, 0 to 18206\n",
      "Data columns (total 89 columns):\n",
      " #   Column                    Non-Null Count  Dtype  \n",
      "---  ------                    --------------  -----  \n",
      " 0   Unnamed: 0                18207 non-null  int64  \n",
      " 1   ID                        18207 non-null  int64  \n",
      " 2   Name                      18207 non-null  object \n",
      " 3   Age                       18207 non-null  int64  \n",
      " 4   Photo                     18207 non-null  object \n",
      " 5   Nationality               18207 non-null  object \n",
      " 6   Flag                      18207 non-null  object \n",
      " 7   Overall                   18207 non-null  int64  \n",
      " 8   Potential                 18207 non-null  int64  \n",
      " 9   Club                      18207 non-null  object \n",
      " 10  Club Logo                 18207 non-null  object \n",
      " 11  Value                     18207 non-null  float64\n",
      " 12  Wage                      18207 non-null  float64\n",
      " 13  Special                   18207 non-null  int64  \n",
      " 14  Preferred Foot            18207 non-null  object \n",
      " 15  International Reputation  18207 non-null  float64\n",
      " 16  Weak Foot                 18207 non-null  float64\n",
      " 17  Skill Moves               18207 non-null  float64\n",
      " 18  Work Rate                 18207 non-null  object \n",
      " 19  Body Type                 18207 non-null  object \n",
      " 20  Real Face                 18207 non-null  object \n",
      " 21  Position                  18207 non-null  object \n",
      " 22  Jersey Number             18207 non-null  float64\n",
      " 23  Joined                    18207 non-null  object \n",
      " 24  Loaned From               18207 non-null  object \n",
      " 25  Contract Valid Until      18207 non-null  object \n",
      " 26  Height                    18207 non-null  object \n",
      " 27  Weight                    18207 non-null  object \n",
      " 28  LS                        18207 non-null  object \n",
      " 29  ST                        18207 non-null  object \n",
      " 30  RS                        18207 non-null  object \n",
      " 31  LW                        18207 non-null  object \n",
      " 32  LF                        18207 non-null  object \n",
      " 33  CF                        18207 non-null  object \n",
      " 34  RF                        18207 non-null  object \n",
      " 35  RW                        18207 non-null  object \n",
      " 36  LAM                       18207 non-null  object \n",
      " 37  CAM                       18207 non-null  object \n",
      " 38  RAM                       18207 non-null  object \n",
      " 39  LM                        18207 non-null  object \n",
      " 40  LCM                       18207 non-null  object \n",
      " 41  CM                        18207 non-null  object \n",
      " 42  RCM                       18207 non-null  object \n",
      " 43  RM                        18207 non-null  object \n",
      " 44  LWB                       18207 non-null  object \n",
      " 45  LDM                       18207 non-null  object \n",
      " 46  CDM                       18207 non-null  object \n",
      " 47  RDM                       18207 non-null  object \n",
      " 48  RWB                       18207 non-null  object \n",
      " 49  LB                        18207 non-null  object \n",
      " 50  LCB                       18207 non-null  object \n",
      " 51  CB                        18207 non-null  object \n",
      " 52  RCB                       18207 non-null  object \n",
      " 53  RB                        18207 non-null  object \n",
      " 54  Crossing                  18207 non-null  float64\n",
      " 55  Finishing                 18207 non-null  float64\n",
      " 56  HeadingAccuracy           18207 non-null  float64\n",
      " 57  ShortPassing              18207 non-null  float64\n",
      " 58  Volleys                   18207 non-null  float64\n",
      " 59  Dribbling                 18207 non-null  float64\n",
      " 60  Curve                     18207 non-null  float64\n",
      " 61  FKAccuracy                18207 non-null  float64\n",
      " 62  LongPassing               18207 non-null  float64\n",
      " 63  BallControl               18207 non-null  float64\n",
      " 64  Acceleration              18207 non-null  float64\n",
      " 65  SprintSpeed               18207 non-null  float64\n",
      " 66  Agility                   18207 non-null  float64\n",
      " 67  Reactions                 18207 non-null  float64\n",
      " 68  Balance                   18207 non-null  float64\n",
      " 69  ShotPower                 18207 non-null  float64\n",
      " 70  Jumping                   18207 non-null  float64\n",
      " 71  Stamina                   18207 non-null  float64\n",
      " 72  Strength                  18207 non-null  float64\n",
      " 73  LongShots                 18207 non-null  float64\n",
      " 74  Aggression                18207 non-null  float64\n",
      " 75  Interceptions             18207 non-null  float64\n",
      " 76  Positioning               18207 non-null  float64\n",
      " 77  Vision                    18207 non-null  float64\n",
      " 78  Penalties                 18207 non-null  float64\n",
      " 79  Composure                 18207 non-null  float64\n",
      " 80  Marking                   18207 non-null  float64\n",
      " 81  StandingTackle            18207 non-null  float64\n",
      " 82  SlidingTackle             18207 non-null  float64\n",
      " 83  GKDiving                  18207 non-null  float64\n",
      " 84  GKHandling                18207 non-null  float64\n",
      " 85  GKKicking                 18207 non-null  float64\n",
      " 86  GKPositioning             18207 non-null  float64\n",
      " 87  GKReflexes                18207 non-null  float64\n",
      " 88  Release Clause            18207 non-null  float64\n",
      "dtypes: float64(41), int64(6), object(42)\n",
      "memory usage: 12.4+ MB\n"
     ]
    }
   ],
   "source": [
    "data.info()"
   ]
  },
  {
   "cell_type": "markdown",
   "metadata": {},
   "source": [
    "### Find the Most Expensive Players whose contracts are going to Expire Soon"
   ]
  },
  {
   "cell_type": "code",
   "execution_count": 25,
   "metadata": {},
   "outputs": [
    {
     "data": {
      "application/vnd.jupyter.widget-view+json": {
       "model_id": "e0033947705a4e90b5068f4deeba1be8",
       "version_major": 2,
       "version_minor": 0
      },
      "text/plain": [
       "interactive(children=(IntSlider(value=5, description='Top_n', max=15, min=-5), Output()), _dom_classes=('widge…"
      ]
     },
     "metadata": {},
     "output_type": "display_data"
    }
   ],
   "source": [
    "@interact\n",
    "def expensive_and_leaving(Top_n=5):\n",
    "    def edge(val):\n",
    "        if len(val)<=4: return 'Jan, 1, '+val\n",
    "    df_exp=data.copy()\n",
    "    #df_exp['date_sorter']=df_exp['Contract Valid Until'].apply(lambda x: edge(x))\n",
    "    df_exp=df_exp.sort_values(by=['Contract Valid Until','Wage'], ascending=[True,False])[['Name','Club','Jersey Number','Position', 'Wage','Contract Valid Until','Value']]\n",
    "    return df_exp.head(Top_n)\n",
    "\n"
   ]
  },
  {
   "cell_type": "markdown",
   "metadata": {},
   "source": [
    "### Make a Function to Generate a Report for Players"
   ]
  },
  {
   "cell_type": "code",
   "execution_count": 26,
   "metadata": {},
   "outputs": [
    {
     "data": {
      "application/vnd.jupyter.widget-view+json": {
       "model_id": "54518e4a697f411e8abfa83789617156",
       "version_major": 2,
       "version_minor": 0
      },
      "text/plain": [
       "interactive(children=(IntSlider(value=10, description='Top_Reputations', max=30, min=-10), Output()), _dom_cla…"
      ]
     },
     "metadata": {},
     "output_type": "display_data"
    }
   ],
   "source": [
    "@interact\n",
    "def top_n(Top_Reputations=10):\n",
    "\n",
    "\n",
    "    #get player percentiles for athleticism, Offense, Goalkeeping, Defense, international rep,\n",
    "    data['International Reputation Top Percentile']=round(data['International Reputation'].rank(pct=True),4)*100\n",
    "    data['Athleticism']=data[['Stamina', 'Strength', 'Vision','Acceleration', 'SprintSpeed', 'Agility', 'Reactions', 'Balance', 'Jumping', ]].apply(lambda x: x['Stamina']+ x['Strength']+ x['Vision']+ x['Acceleration']+ x['SprintSpeed']+ x['Agility']+ \n",
    "                            x['Reactions']+ x['Balance']+ x['Jumping'],axis=1)\n",
    "    data['Athleticism Top Percentile']=round(data['Athleticism'].rank(pct=True),4)*100\n",
    "    data['Offense']=data[['Skill Moves','Crossing', 'Finishing', 'HeadingAccuracy', 'ShortPassing', 'Volleys', 'Dribbling', 'Curve', 'FKAccuracy', 'LongPassing', 'BallControl','ShotPower','LongShots',]].apply(lambda x: x['Skill Moves']+\n",
    "                        x['Crossing']+x['Finishing']+x['HeadingAccuracy']+x['ShortPassing']+x['Volleys']+x['Dribbling']+x['Curve']+x['FKAccuracy']+x['LongPassing']+x['BallControl']+x['ShotPower']+x['LongShots'],axis=1)\n",
    "    data['Offense Top Percentile']=round(data['Offense'].rank(pct=True),4)*100\n",
    "    data['Goalkeeping']=data[['GKDiving', 'GKHandling', 'GKKicking', 'GKPositioning', 'GKReflexes',]].apply(lambda x: x['GKDiving']+x['GKHandling']+x['GKKicking']+x['GKPositioning']+x['GKReflexes'],axis=1)\n",
    "    data['Goalkeeping Top Percentile']=round(data['Goalkeeping'].rank(pct=True),4)*100\n",
    "    data['Defense']=data[['Interceptions', 'Positioning', 'StandingTackle', 'SlidingTackle','Marking' ]].apply(lambda x: x['Interceptions']+x['Positioning']+x['StandingTackle']+x['SlidingTackle']+x['Marking'],axis=1)\n",
    "    data['Defense Top Percentile']=round(data['Defense'].rank(pct=True),4)*100\n",
    "\n",
    "    return data[['Name','Club','Offense Top Percentile',\n",
    "        'Defense Top Percentile','Athleticism Top Percentile',\n",
    "        'Goalkeeping Top Percentile','International Reputation Top Percentile',\n",
    "        'Wage']].sort_values(by='International Reputation Top Percentile',ascending=False).head(Top_Reputations)\n",
    "\n"
   ]
  },
  {
   "cell_type": "markdown",
   "metadata": {},
   "source": [
    "### Compare Indian Footballers with Russian Footballers"
   ]
  },
  {
   "cell_type": "code",
   "execution_count": 27,
   "metadata": {},
   "outputs": [
    {
     "data": {
      "text/html": [
       "<div>\n",
       "<style scoped>\n",
       "    .dataframe tbody tr th:only-of-type {\n",
       "        vertical-align: middle;\n",
       "    }\n",
       "\n",
       "    .dataframe tbody tr th {\n",
       "        vertical-align: top;\n",
       "    }\n",
       "\n",
       "    .dataframe thead th {\n",
       "        text-align: right;\n",
       "    }\n",
       "</style>\n",
       "<table border=\"1\" class=\"dataframe\">\n",
       "  <thead>\n",
       "    <tr style=\"text-align: right;\">\n",
       "      <th></th>\n",
       "      <th>Nationality</th>\n",
       "      <th>Offense</th>\n",
       "      <th>Defense</th>\n",
       "      <th>Goalkeeping</th>\n",
       "      <th>Athleticism</th>\n",
       "    </tr>\n",
       "  </thead>\n",
       "  <tbody>\n",
       "    <tr>\n",
       "      <th>0</th>\n",
       "      <td>India</td>\n",
       "      <td>499.066667</td>\n",
       "      <td>196.166667</td>\n",
       "      <td>83.133333</td>\n",
       "      <td>538.533333</td>\n",
       "    </tr>\n",
       "    <tr>\n",
       "      <th>1</th>\n",
       "      <td>Russia</td>\n",
       "      <td>631.721519</td>\n",
       "      <td>244.493671</td>\n",
       "      <td>104.848101</td>\n",
       "      <td>564.924051</td>\n",
       "    </tr>\n",
       "  </tbody>\n",
       "</table>\n",
       "</div>"
      ],
      "text/plain": [
       "  Nationality     Offense     Defense  Goalkeeping  Athleticism\n",
       "0       India  499.066667  196.166667    83.133333   538.533333\n",
       "1      Russia  631.721519  244.493671   104.848101   564.924051"
      ]
     },
     "metadata": {},
     "output_type": "display_data"
    },
    {
     "data": {
      "image/png": "[encoded data removed]",
      "text/plain": [
       "<Figure size 1000x600 with 1 Axes>"
      ]
     },
     "metadata": {},
     "output_type": "display_data"
    }
   ],
   "source": [
    "filtered_df=data.loc[(data['Nationality']=='Russia')|(data['Nationality']=='India')]\n",
    "fi_df=filtered_df[['Name','Nationality','Club','Athleticism','Offense','Goalkeeping','Defense','International Reputation']].sort_values(by='International Reputation',ascending=False)\n",
    "grouped=fi_df.groupby(['Nationality']).agg({'Offense':'mean','Defense':'mean','Goalkeeping':'mean','Athleticism':'mean'}).sort_values(by='Offense').reset_index()\n",
    "display(grouped)\n",
    "# Melt the DataFrame for easier plotting\n",
    "grouped_melted = grouped.melt(id_vars=['Nationality'], var_name='Category', value_name='Score')\n",
    "\n",
    "# Create a grouped barplot\n",
    "plt.figure(figsize=(10, 6))\n",
    "sns.barplot(x='Category', y='Score', hue='Nationality', data=grouped_melted)\n",
    "\n",
    "# Formatting\n",
    "plt.title(\"Soccer Attribute Comparison: Russia vs India\")\n",
    "plt.xlabel(\"Attribute\")\n",
    "plt.ylabel(\"Average Score\")\n",
    "plt.legend(title=\"Nationality\")\n",
    "\n",
    "# Show the plot\n",
    "plt.show()"
   ]
  },
  {
   "cell_type": "markdown",
   "metadata": {},
   "source": [
    "### Find the Most Popular Footballers under 20"
   ]
  },
  {
   "cell_type": "code",
   "execution_count": 28,
   "metadata": {},
   "outputs": [
    {
     "data": {
      "application/vnd.jupyter.widget-view+json": {
       "model_id": "dc233fbff8584151bf98e4ec4aea1e02",
       "version_major": 2,
       "version_minor": 0
      },
      "text/plain": [
       "interactive(children=(IntSlider(value=5, description='n_most_popular', max=15, min=-5), Output()), _dom_classe…"
      ]
     },
     "metadata": {},
     "output_type": "display_data"
    }
   ],
   "source": [
    "@interact  \n",
    "def popular(n_most_popular=5):\n",
    "    return data.loc[data['Age']<20][['Name','Age','Club','Jersey Number','Nationality','International Reputation']].sort_values(by='International Reputation',ascending=False).head(n_most_popular)\n"
   ]
  },
  {
   "cell_type": "markdown",
   "metadata": {},
   "source": []
  }
 ],
 "metadata": {
  "kernelspec": {
   "display_name": "Python 3",
   "language": "python",
   "name": "python3"
  },
  "language_info": {
   "codemirror_mode": {
    "name": "ipython",
    "version": 3
   },
   "file_extension": ".py",
   "mimetype": "text/x-python",
   "name": "python",
   "nbconvert_exporter": "python",
   "pygments_lexer": "ipython3",
   "version": "3.12.2"
  }
 },
 "nbformat": 4,
 "nbformat_minor": 4
}
