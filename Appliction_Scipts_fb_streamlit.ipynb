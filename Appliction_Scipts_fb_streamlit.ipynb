{
 "cells": [
  {
   "cell_type": "code",
   "execution_count": null,
   "id": "cc4b8e7e",
   "metadata": {},
   "outputs": [],
   "source": [
    "import numpy as np\n",
    "import pandas as pd\n",
    "import seaborn as sns\n",
    "import matplotlib.pyplot as plt\n",
    "import plotly.express as px\n",
    "from plotly.subplots import make_subplots\n",
    "import plotly.graph_objects as go\n",
    "plt.style.use('seaborn-v0_8-colorblind')\n",
    "import warnings\n",
    "warnings.filterwarnings('ignore')\n",
    "from itertools import combinations\n",
    "import utils\n",
    "import modeling_utils\n",
    "import bayes_utils\n",
    "import joblib\n",
    "from joblib import dump,load\n",
    "from sklearn.pipeline import make_pipeline\n",
    "from sklearn.linear_model import Lasso, ElasticNet\n",
    "from sklearn.preprocessing import PolynomialFeatures,StandardScaler\n",
    "from sklearn.model_selection import train_test_split\n",
    "from sklearn.model_selection import GridSearchCV\n",
    "from sklearn.metrics import r2_score, mean_absolute_error\n",
    "pd.set_option('display.max_rows', 100)\n",
    "pd.set_option('display.width',1000)\n",
    "data=utils.get_data()\n",
    "#label age and gender with numeric datatypes\n",
    "#data=modeling_utils.age_gender_rename(data)\n",
    "#data=modeling_utils.age_gender_rename(data)\n",
    "#cap outliers\n",
    "cap_dict={}#joblib.load('model_feature_ceilings.joblib')\n",
    "#predict number of leads\n",
    "lead_model_info=joblib.load('lead_prediction_model_info.joblib')\n",
    "data=modeling_utils.make_predictions_pipeline(data,lead_model_info,cap_dict)\n",
    "#predict approved conversions to sale\n",
    "approved_conversion_model_info=joblib.load('approved_conversion_model_info.joblib')\n",
    "data=modeling_utils.make_predictions_pipeline(data,approved_conversion_model_info,cap_dict)\n",
    "#get 3 conversion classes based on age gender and interest, and CostPerMille. \n",
    "#These are observed \n",
    "data=modeling_utils.get_prob_class(data,'Approved_Conversion','Total_Conversion','Three_Conversion_Classes',3,'ObservedConvClass')\n",
    "#these are predicted\n",
    "#data=modeling_utils.add_conversion_rate_prediction(data) #an overfit model\n",
    "data=modeling_utils.get_conversion_rate_preds(data)\n",
    "data['Three_Conversion_Classes'].replace((0.0,0.33,0.67),('Low','Medium','High'),inplace=True)"
   ]
  },
  {
   "cell_type": "code",
   "execution_count": 1,
   "id": "0b278e0d",
   "metadata": {},
   "outputs": [
    {
     "name": "stdout",
     "output_type": "stream",
     "text": [
      "3\n"
     ]
    }
   ],
   "source": [
    "l=set([3,3,3,3,3,3,5,4])\n",
    "print(len(l))"
   ]
  }
 ],
 "metadata": {
  "kernelspec": {
   "display_name": "Python 3",
   "language": "python",
   "name": "python3"
  },
  "language_info": {
   "codemirror_mode": {
    "name": "ipython",
    "version": 3
   },
   "file_extension": ".py",
   "mimetype": "text/x-python",
   "name": "python",
   "nbconvert_exporter": "python",
   "pygments_lexer": "ipython3",
   "version": "3.12.2"
  }
 },
 "nbformat": 4,
 "nbformat_minor": 5
}
